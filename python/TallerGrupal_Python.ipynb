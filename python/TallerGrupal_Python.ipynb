{
  "cells": [
    {
      "cell_type": "code",
      "execution_count": 3,
      "metadata": {
        "colab": {
          "base_uri": "https://localhost:8080/"
        },
        "collapsed": true,
        "id": "3WBllECwk7AJ",
        "outputId": "52cbb7bb-0ff9-43c1-9c34-20373dc4e429"
      },
      "outputs": [
        {
          "output_type": "stream",
          "name": "stdout",
          "text": [
            "Requirement already satisfied: numpy in /usr/local/lib/python3.10/dist-packages (1.25.2)\n",
            "Requirement already satisfied: pandas in /usr/local/lib/python3.10/dist-packages (2.0.3)\n",
            "Requirement already satisfied: matplotlib in /usr/local/lib/python3.10/dist-packages (3.7.1)\n",
            "Requirement already satisfied: seaborn in /usr/local/lib/python3.10/dist-packages (0.13.1)\n",
            "Requirement already satisfied: scikit-learn in /usr/local/lib/python3.10/dist-packages (1.2.2)\n",
            "Requirement already satisfied: tensorflow in /usr/local/lib/python3.10/dist-packages (2.15.0)\n",
            "Requirement already satisfied: requests in /usr/local/lib/python3.10/dist-packages (2.31.0)\n",
            "Requirement already satisfied: spacy in /usr/local/lib/python3.10/dist-packages (3.7.4)\n",
            "Collecting swifter\n",
            "  Downloading swifter-1.4.0.tar.gz (1.2 MB)\n",
            "\u001b[2K     \u001b[90m━━━━━━━━━━━━━━━━━━━━━━━━━━━━━━━━━━━━━━━━\u001b[0m \u001b[32m1.2/1.2 MB\u001b[0m \u001b[31m4.6 MB/s\u001b[0m eta \u001b[36m0:00:00\u001b[0m\n",
            "\u001b[?25h  Preparing metadata (setup.py) ... \u001b[?25l\u001b[?25hdone\n",
            "Requirement already satisfied: python-dateutil>=2.8.2 in /usr/local/lib/python3.10/dist-packages (from pandas) (2.8.2)\n",
            "Requirement already satisfied: pytz>=2020.1 in /usr/local/lib/python3.10/dist-packages (from pandas) (2023.4)\n",
            "Requirement already satisfied: tzdata>=2022.1 in /usr/local/lib/python3.10/dist-packages (from pandas) (2024.1)\n",
            "Requirement already satisfied: contourpy>=1.0.1 in /usr/local/lib/python3.10/dist-packages (from matplotlib) (1.2.1)\n",
            "Requirement already satisfied: cycler>=0.10 in /usr/local/lib/python3.10/dist-packages (from matplotlib) (0.12.1)\n",
            "Requirement already satisfied: fonttools>=4.22.0 in /usr/local/lib/python3.10/dist-packages (from matplotlib) (4.51.0)\n",
            "Requirement already satisfied: kiwisolver>=1.0.1 in /usr/local/lib/python3.10/dist-packages (from matplotlib) (1.4.5)\n",
            "Requirement already satisfied: packaging>=20.0 in /usr/local/lib/python3.10/dist-packages (from matplotlib) (24.0)\n",
            "Requirement already satisfied: pillow>=6.2.0 in /usr/local/lib/python3.10/dist-packages (from matplotlib) (9.4.0)\n",
            "Requirement already satisfied: pyparsing>=2.3.1 in /usr/local/lib/python3.10/dist-packages (from matplotlib) (3.1.2)\n",
            "Requirement already satisfied: scipy>=1.3.2 in /usr/local/lib/python3.10/dist-packages (from scikit-learn) (1.11.4)\n",
            "Requirement already satisfied: joblib>=1.1.1 in /usr/local/lib/python3.10/dist-packages (from scikit-learn) (1.4.2)\n",
            "Requirement already satisfied: threadpoolctl>=2.0.0 in /usr/local/lib/python3.10/dist-packages (from scikit-learn) (3.5.0)\n",
            "Requirement already satisfied: absl-py>=1.0.0 in /usr/local/lib/python3.10/dist-packages (from tensorflow) (1.4.0)\n",
            "Requirement already satisfied: astunparse>=1.6.0 in /usr/local/lib/python3.10/dist-packages (from tensorflow) (1.6.3)\n",
            "Requirement already satisfied: flatbuffers>=23.5.26 in /usr/local/lib/python3.10/dist-packages (from tensorflow) (24.3.25)\n",
            "Requirement already satisfied: gast!=0.5.0,!=0.5.1,!=0.5.2,>=0.2.1 in /usr/local/lib/python3.10/dist-packages (from tensorflow) (0.5.4)\n",
            "Requirement already satisfied: google-pasta>=0.1.1 in /usr/local/lib/python3.10/dist-packages (from tensorflow) (0.2.0)\n",
            "Requirement already satisfied: h5py>=2.9.0 in /usr/local/lib/python3.10/dist-packages (from tensorflow) (3.9.0)\n",
            "Requirement already satisfied: libclang>=13.0.0 in /usr/local/lib/python3.10/dist-packages (from tensorflow) (18.1.1)\n",
            "Requirement already satisfied: ml-dtypes~=0.2.0 in /usr/local/lib/python3.10/dist-packages (from tensorflow) (0.2.0)\n",
            "Requirement already satisfied: opt-einsum>=2.3.2 in /usr/local/lib/python3.10/dist-packages (from tensorflow) (3.3.0)\n",
            "Requirement already satisfied: protobuf!=4.21.0,!=4.21.1,!=4.21.2,!=4.21.3,!=4.21.4,!=4.21.5,<5.0.0dev,>=3.20.3 in /usr/local/lib/python3.10/dist-packages (from tensorflow) (3.20.3)\n",
            "Requirement already satisfied: setuptools in /usr/local/lib/python3.10/dist-packages (from tensorflow) (67.7.2)\n",
            "Requirement already satisfied: six>=1.12.0 in /usr/local/lib/python3.10/dist-packages (from tensorflow) (1.16.0)\n",
            "Requirement already satisfied: termcolor>=1.1.0 in /usr/local/lib/python3.10/dist-packages (from tensorflow) (2.4.0)\n",
            "Requirement already satisfied: typing-extensions>=3.6.6 in /usr/local/lib/python3.10/dist-packages (from tensorflow) (4.11.0)\n",
            "Requirement already satisfied: wrapt<1.15,>=1.11.0 in /usr/local/lib/python3.10/dist-packages (from tensorflow) (1.14.1)\n",
            "Requirement already satisfied: tensorflow-io-gcs-filesystem>=0.23.1 in /usr/local/lib/python3.10/dist-packages (from tensorflow) (0.37.0)\n",
            "Requirement already satisfied: grpcio<2.0,>=1.24.3 in /usr/local/lib/python3.10/dist-packages (from tensorflow) (1.64.0)\n",
            "Requirement already satisfied: tensorboard<2.16,>=2.15 in /usr/local/lib/python3.10/dist-packages (from tensorflow) (2.15.2)\n",
            "Requirement already satisfied: tensorflow-estimator<2.16,>=2.15.0 in /usr/local/lib/python3.10/dist-packages (from tensorflow) (2.15.0)\n",
            "Requirement already satisfied: keras<2.16,>=2.15.0 in /usr/local/lib/python3.10/dist-packages (from tensorflow) (2.15.0)\n",
            "Requirement already satisfied: charset-normalizer<4,>=2 in /usr/local/lib/python3.10/dist-packages (from requests) (3.3.2)\n",
            "Requirement already satisfied: idna<4,>=2.5 in /usr/local/lib/python3.10/dist-packages (from requests) (3.7)\n",
            "Requirement already satisfied: urllib3<3,>=1.21.1 in /usr/local/lib/python3.10/dist-packages (from requests) (2.0.7)\n",
            "Requirement already satisfied: certifi>=2017.4.17 in /usr/local/lib/python3.10/dist-packages (from requests) (2024.2.2)\n",
            "Requirement already satisfied: spacy-legacy<3.1.0,>=3.0.11 in /usr/local/lib/python3.10/dist-packages (from spacy) (3.0.12)\n",
            "Requirement already satisfied: spacy-loggers<2.0.0,>=1.0.0 in /usr/local/lib/python3.10/dist-packages (from spacy) (1.0.5)\n",
            "Requirement already satisfied: murmurhash<1.1.0,>=0.28.0 in /usr/local/lib/python3.10/dist-packages (from spacy) (1.0.10)\n",
            "Requirement already satisfied: cymem<2.1.0,>=2.0.2 in /usr/local/lib/python3.10/dist-packages (from spacy) (2.0.8)\n",
            "Requirement already satisfied: preshed<3.1.0,>=3.0.2 in /usr/local/lib/python3.10/dist-packages (from spacy) (3.0.9)\n",
            "Requirement already satisfied: thinc<8.3.0,>=8.2.2 in /usr/local/lib/python3.10/dist-packages (from spacy) (8.2.3)\n",
            "Requirement already satisfied: wasabi<1.2.0,>=0.9.1 in /usr/local/lib/python3.10/dist-packages (from spacy) (1.1.2)\n",
            "Requirement already satisfied: srsly<3.0.0,>=2.4.3 in /usr/local/lib/python3.10/dist-packages (from spacy) (2.4.8)\n",
            "Requirement already satisfied: catalogue<2.1.0,>=2.0.6 in /usr/local/lib/python3.10/dist-packages (from spacy) (2.0.10)\n",
            "Requirement already satisfied: weasel<0.4.0,>=0.1.0 in /usr/local/lib/python3.10/dist-packages (from spacy) (0.3.4)\n",
            "Requirement already satisfied: typer<0.10.0,>=0.3.0 in /usr/local/lib/python3.10/dist-packages (from spacy) (0.9.4)\n",
            "Requirement already satisfied: smart-open<7.0.0,>=5.2.1 in /usr/local/lib/python3.10/dist-packages (from spacy) (6.4.0)\n",
            "Requirement already satisfied: tqdm<5.0.0,>=4.38.0 in /usr/local/lib/python3.10/dist-packages (from spacy) (4.66.4)\n",
            "Requirement already satisfied: pydantic!=1.8,!=1.8.1,<3.0.0,>=1.7.4 in /usr/local/lib/python3.10/dist-packages (from spacy) (2.7.1)\n",
            "Requirement already satisfied: jinja2 in /usr/local/lib/python3.10/dist-packages (from spacy) (3.1.4)\n",
            "Requirement already satisfied: langcodes<4.0.0,>=3.2.0 in /usr/local/lib/python3.10/dist-packages (from spacy) (3.4.0)\n",
            "Requirement already satisfied: psutil>=5.6.6 in /usr/local/lib/python3.10/dist-packages (from swifter) (5.9.5)\n",
            "Requirement already satisfied: dask[dataframe]>=2.10.0 in /usr/local/lib/python3.10/dist-packages (from swifter) (2023.8.1)\n",
            "Requirement already satisfied: wheel<1.0,>=0.23.0 in /usr/local/lib/python3.10/dist-packages (from astunparse>=1.6.0->tensorflow) (0.43.0)\n",
            "Requirement already satisfied: click>=8.0 in /usr/local/lib/python3.10/dist-packages (from dask[dataframe]>=2.10.0->swifter) (8.1.7)\n",
            "Requirement already satisfied: cloudpickle>=1.5.0 in /usr/local/lib/python3.10/dist-packages (from dask[dataframe]>=2.10.0->swifter) (2.2.1)\n",
            "Requirement already satisfied: fsspec>=2021.09.0 in /usr/local/lib/python3.10/dist-packages (from dask[dataframe]>=2.10.0->swifter) (2023.6.0)\n",
            "Requirement already satisfied: partd>=1.2.0 in /usr/local/lib/python3.10/dist-packages (from dask[dataframe]>=2.10.0->swifter) (1.4.2)\n",
            "Requirement already satisfied: pyyaml>=5.3.1 in /usr/local/lib/python3.10/dist-packages (from dask[dataframe]>=2.10.0->swifter) (6.0.1)\n",
            "Requirement already satisfied: toolz>=0.10.0 in /usr/local/lib/python3.10/dist-packages (from dask[dataframe]>=2.10.0->swifter) (0.12.1)\n",
            "Requirement already satisfied: importlib-metadata>=4.13.0 in /usr/local/lib/python3.10/dist-packages (from dask[dataframe]>=2.10.0->swifter) (7.1.0)\n",
            "Requirement already satisfied: language-data>=1.2 in /usr/local/lib/python3.10/dist-packages (from langcodes<4.0.0,>=3.2.0->spacy) (1.2.0)\n",
            "Requirement already satisfied: annotated-types>=0.4.0 in /usr/local/lib/python3.10/dist-packages (from pydantic!=1.8,!=1.8.1,<3.0.0,>=1.7.4->spacy) (0.7.0)\n",
            "Requirement already satisfied: pydantic-core==2.18.2 in /usr/local/lib/python3.10/dist-packages (from pydantic!=1.8,!=1.8.1,<3.0.0,>=1.7.4->spacy) (2.18.2)\n",
            "Requirement already satisfied: google-auth<3,>=1.6.3 in /usr/local/lib/python3.10/dist-packages (from tensorboard<2.16,>=2.15->tensorflow) (2.27.0)\n",
            "Requirement already satisfied: google-auth-oauthlib<2,>=0.5 in /usr/local/lib/python3.10/dist-packages (from tensorboard<2.16,>=2.15->tensorflow) (1.2.0)\n",
            "Requirement already satisfied: markdown>=2.6.8 in /usr/local/lib/python3.10/dist-packages (from tensorboard<2.16,>=2.15->tensorflow) (3.6)\n",
            "Requirement already satisfied: tensorboard-data-server<0.8.0,>=0.7.0 in /usr/local/lib/python3.10/dist-packages (from tensorboard<2.16,>=2.15->tensorflow) (0.7.2)\n",
            "Requirement already satisfied: werkzeug>=1.0.1 in /usr/local/lib/python3.10/dist-packages (from tensorboard<2.16,>=2.15->tensorflow) (3.0.3)\n",
            "Requirement already satisfied: blis<0.8.0,>=0.7.8 in /usr/local/lib/python3.10/dist-packages (from thinc<8.3.0,>=8.2.2->spacy) (0.7.11)\n",
            "Requirement already satisfied: confection<1.0.0,>=0.0.1 in /usr/local/lib/python3.10/dist-packages (from thinc<8.3.0,>=8.2.2->spacy) (0.1.4)\n",
            "Requirement already satisfied: cloudpathlib<0.17.0,>=0.7.0 in /usr/local/lib/python3.10/dist-packages (from weasel<0.4.0,>=0.1.0->spacy) (0.16.0)\n",
            "Requirement already satisfied: MarkupSafe>=2.0 in /usr/local/lib/python3.10/dist-packages (from jinja2->spacy) (2.1.5)\n",
            "Requirement already satisfied: cachetools<6.0,>=2.0.0 in /usr/local/lib/python3.10/dist-packages (from google-auth<3,>=1.6.3->tensorboard<2.16,>=2.15->tensorflow) (5.3.3)\n",
            "Requirement already satisfied: pyasn1-modules>=0.2.1 in /usr/local/lib/python3.10/dist-packages (from google-auth<3,>=1.6.3->tensorboard<2.16,>=2.15->tensorflow) (0.4.0)\n",
            "Requirement already satisfied: rsa<5,>=3.1.4 in /usr/local/lib/python3.10/dist-packages (from google-auth<3,>=1.6.3->tensorboard<2.16,>=2.15->tensorflow) (4.9)\n",
            "Requirement already satisfied: requests-oauthlib>=0.7.0 in /usr/local/lib/python3.10/dist-packages (from google-auth-oauthlib<2,>=0.5->tensorboard<2.16,>=2.15->tensorflow) (1.3.1)\n",
            "Requirement already satisfied: zipp>=0.5 in /usr/local/lib/python3.10/dist-packages (from importlib-metadata>=4.13.0->dask[dataframe]>=2.10.0->swifter) (3.18.2)\n",
            "Requirement already satisfied: marisa-trie>=0.7.7 in /usr/local/lib/python3.10/dist-packages (from language-data>=1.2->langcodes<4.0.0,>=3.2.0->spacy) (1.1.1)\n",
            "Requirement already satisfied: locket in /usr/local/lib/python3.10/dist-packages (from partd>=1.2.0->dask[dataframe]>=2.10.0->swifter) (1.0.0)\n",
            "Requirement already satisfied: pyasn1<0.7.0,>=0.4.6 in /usr/local/lib/python3.10/dist-packages (from pyasn1-modules>=0.2.1->google-auth<3,>=1.6.3->tensorboard<2.16,>=2.15->tensorflow) (0.6.0)\n",
            "Requirement already satisfied: oauthlib>=3.0.0 in /usr/local/lib/python3.10/dist-packages (from requests-oauthlib>=0.7.0->google-auth-oauthlib<2,>=0.5->tensorboard<2.16,>=2.15->tensorflow) (3.2.2)\n",
            "Building wheels for collected packages: swifter\n",
            "  Building wheel for swifter (setup.py) ... \u001b[?25l\u001b[?25hdone\n",
            "  Created wheel for swifter: filename=swifter-1.4.0-py3-none-any.whl size=16507 sha256=8b80212f29d761feed09c3b77edee8940f5405639b2dc427fd95ed12052c6c7f\n",
            "  Stored in directory: /root/.cache/pip/wheels/e4/cf/51/0904952972ee2c7aa3709437065278dc534ec1b8d2ad41b443\n",
            "Successfully built swifter\n",
            "Installing collected packages: swifter\n",
            "Successfully installed swifter-1.4.0\n"
          ]
        }
      ],
      "source": [
        "# Instalar librerías (si no están instaladas)\n",
        "!pip install numpy pandas matplotlib seaborn scikit-learn tensorflow requests spacy swifter"
      ]
    },
    {
      "cell_type": "markdown",
      "metadata": {
        "id": "-sNeuTSJMYp5"
      },
      "source": [
        "# Preparación del entorno\n",
        "\n",
        "Importación de librerías a usar."
      ]
    },
    {
      "cell_type": "code",
      "execution_count": 4,
      "metadata": {
        "id": "9BfXaVjzZHmM"
      },
      "outputs": [],
      "source": [
        "# Generacion de numeros (pseudo) aleatorios\n",
        "import random\n",
        "\n",
        "# pandas\n",
        "import pandas as pd\n",
        "\n",
        "# Seaborn\n",
        "import seaborn as sns\n",
        "\n",
        "# Librerías de scikit learn\n",
        "from sklearn.decomposition import PCA\n",
        "from sklearn.preprocessing import StandardScaler, OneHotEncoder\n",
        "from sklearn.model_selection import train_test_split\n",
        "from sklearn.svm import SVC\n",
        "from sklearn.metrics import accuracy_score, precision_score, recall_score, f1_score\n",
        "from sklearn.ensemble import RandomForestClassifier\n",
        "\n",
        "# Librerías para crear gráficos\n",
        "import matplotlib.pyplot as plt\n",
        "from mpl_toolkits.mplot3d import Axes3D\n",
        "\n",
        "# Expresiones regulares\n",
        "import re\n",
        "\n",
        "# Librería de procesamiento de lenguaje natural\n",
        "import spacy\n",
        "\n",
        "# procesamiento en paralelo en Pandas\n",
        "import swifter\n",
        "\n",
        "\n",
        "# Librerías de Tensorflow y ciertos módulos relacioandos con Keras\n",
        "import tensorflow as tf\n",
        "from tensorflow.keras.preprocessing.text import Tokenizer\n",
        "from tensorflow.keras.preprocessing.sequence import pad_sequences\n",
        "from tensorflow.keras.models import Sequential\n",
        "from tensorflow.keras.layers import Dense, LSTM, Embedding\n",
        "from tensorflow.keras.optimizers import Adam\n",
        "from keras.callbacks import ReduceLROnPlateau\n",
        "\n"
      ]
    },
    {
      "cell_type": "markdown",
      "metadata": {
        "id": "463JpmSJMpa1"
      },
      "source": [
        "Definición del estado inicial de los generadores de números pseudoaleatorios, para asegurar que el resultado sea reproducible."
      ]
    },
    {
      "cell_type": "code",
      "execution_count": null,
      "metadata": {
        "id": "aTKOmXLYM2Da"
      },
      "outputs": [],
      "source": [
        "random.seed(42)"
      ]
    },
    {
      "cell_type": "markdown",
      "metadata": {
        "id": "wgmwjdFrLlXg"
      },
      "source": [
        "# Implementación de algoritmos de aprendizaje automático"
      ]
    },
    {
      "cell_type": "code",
      "execution_count": null,
      "metadata": {
        "colab": {
          "base_uri": "https://localhost:8080/",
          "height": 363
        },
        "id": "_zx3BuJdoFRK",
        "outputId": "30c8e5b0-cc96-415f-b821-d9ea1f3719d3"
      },
      "outputs": [
        {
          "data": {
            "application/vnd.google.colaboratory.intrinsic+json": {
              "summary": "{\n  \"name\": \"data\",\n  \"rows\": 150,\n  \"fields\": [\n    {\n      \"column\": \"sepal_length\",\n      \"properties\": {\n        \"dtype\": \"number\",\n        \"std\": 0.828066127977863,\n        \"min\": 4.3,\n        \"max\": 7.9,\n        \"num_unique_values\": 35,\n        \"samples\": [\n          6.2,\n          4.5,\n          5.6\n        ],\n        \"semantic_type\": \"\",\n        \"description\": \"\"\n      }\n    },\n    {\n      \"column\": \"sepal_width\",\n      \"properties\": {\n        \"dtype\": \"number\",\n        \"std\": 0.4358662849366982,\n        \"min\": 2.0,\n        \"max\": 4.4,\n        \"num_unique_values\": 23,\n        \"samples\": [\n          2.3,\n          4.0,\n          3.5\n        ],\n        \"semantic_type\": \"\",\n        \"description\": \"\"\n      }\n    },\n    {\n      \"column\": \"petal_length\",\n      \"properties\": {\n        \"dtype\": \"number\",\n        \"std\": 1.7652982332594662,\n        \"min\": 1.0,\n        \"max\": 6.9,\n        \"num_unique_values\": 43,\n        \"samples\": [\n          6.7,\n          3.8,\n          3.7\n        ],\n        \"semantic_type\": \"\",\n        \"description\": \"\"\n      }\n    },\n    {\n      \"column\": \"petal_width\",\n      \"properties\": {\n        \"dtype\": \"number\",\n        \"std\": 0.7622376689603465,\n        \"min\": 0.1,\n        \"max\": 2.5,\n        \"num_unique_values\": 22,\n        \"samples\": [\n          0.2,\n          1.2,\n          1.3\n        ],\n        \"semantic_type\": \"\",\n        \"description\": \"\"\n      }\n    },\n    {\n      \"column\": \"species\",\n      \"properties\": {\n        \"dtype\": \"category\",\n        \"num_unique_values\": 3,\n        \"samples\": [\n          \"setosa\",\n          \"versicolor\",\n          \"virginica\"\n        ],\n        \"semantic_type\": \"\",\n        \"description\": \"\"\n      }\n    }\n  ]\n}",
              "type": "dataframe",
              "variable_name": "data"
            },
            "text/html": [
              "\n",
              "  <div id=\"df-81d7b418-423a-4b2f-8f2a-c69c076bc8d2\" class=\"colab-df-container\">\n",
              "    <div>\n",
              "<style scoped>\n",
              "    .dataframe tbody tr th:only-of-type {\n",
              "        vertical-align: middle;\n",
              "    }\n",
              "\n",
              "    .dataframe tbody tr th {\n",
              "        vertical-align: top;\n",
              "    }\n",
              "\n",
              "    .dataframe thead th {\n",
              "        text-align: right;\n",
              "    }\n",
              "</style>\n",
              "<table border=\"1\" class=\"dataframe\">\n",
              "  <thead>\n",
              "    <tr style=\"text-align: right;\">\n",
              "      <th></th>\n",
              "      <th>sepal_length</th>\n",
              "      <th>sepal_width</th>\n",
              "      <th>petal_length</th>\n",
              "      <th>petal_width</th>\n",
              "      <th>species</th>\n",
              "    </tr>\n",
              "  </thead>\n",
              "  <tbody>\n",
              "    <tr>\n",
              "      <th>0</th>\n",
              "      <td>5.1</td>\n",
              "      <td>3.5</td>\n",
              "      <td>1.4</td>\n",
              "      <td>0.2</td>\n",
              "      <td>setosa</td>\n",
              "    </tr>\n",
              "    <tr>\n",
              "      <th>1</th>\n",
              "      <td>4.9</td>\n",
              "      <td>3.0</td>\n",
              "      <td>1.4</td>\n",
              "      <td>0.2</td>\n",
              "      <td>setosa</td>\n",
              "    </tr>\n",
              "    <tr>\n",
              "      <th>2</th>\n",
              "      <td>4.7</td>\n",
              "      <td>3.2</td>\n",
              "      <td>1.3</td>\n",
              "      <td>0.2</td>\n",
              "      <td>setosa</td>\n",
              "    </tr>\n",
              "    <tr>\n",
              "      <th>3</th>\n",
              "      <td>4.6</td>\n",
              "      <td>3.1</td>\n",
              "      <td>1.5</td>\n",
              "      <td>0.2</td>\n",
              "      <td>setosa</td>\n",
              "    </tr>\n",
              "    <tr>\n",
              "      <th>4</th>\n",
              "      <td>5.0</td>\n",
              "      <td>3.6</td>\n",
              "      <td>1.4</td>\n",
              "      <td>0.2</td>\n",
              "      <td>setosa</td>\n",
              "    </tr>\n",
              "    <tr>\n",
              "      <th>5</th>\n",
              "      <td>5.4</td>\n",
              "      <td>3.9</td>\n",
              "      <td>1.7</td>\n",
              "      <td>0.4</td>\n",
              "      <td>setosa</td>\n",
              "    </tr>\n",
              "    <tr>\n",
              "      <th>6</th>\n",
              "      <td>4.6</td>\n",
              "      <td>3.4</td>\n",
              "      <td>1.4</td>\n",
              "      <td>0.3</td>\n",
              "      <td>setosa</td>\n",
              "    </tr>\n",
              "    <tr>\n",
              "      <th>7</th>\n",
              "      <td>5.0</td>\n",
              "      <td>3.4</td>\n",
              "      <td>1.5</td>\n",
              "      <td>0.2</td>\n",
              "      <td>setosa</td>\n",
              "    </tr>\n",
              "    <tr>\n",
              "      <th>8</th>\n",
              "      <td>4.4</td>\n",
              "      <td>2.9</td>\n",
              "      <td>1.4</td>\n",
              "      <td>0.2</td>\n",
              "      <td>setosa</td>\n",
              "    </tr>\n",
              "    <tr>\n",
              "      <th>9</th>\n",
              "      <td>4.9</td>\n",
              "      <td>3.1</td>\n",
              "      <td>1.5</td>\n",
              "      <td>0.1</td>\n",
              "      <td>setosa</td>\n",
              "    </tr>\n",
              "  </tbody>\n",
              "</table>\n",
              "</div>\n",
              "    <div class=\"colab-df-buttons\">\n",
              "\n",
              "  <div class=\"colab-df-container\">\n",
              "    <button class=\"colab-df-convert\" onclick=\"convertToInteractive('df-81d7b418-423a-4b2f-8f2a-c69c076bc8d2')\"\n",
              "            title=\"Convert this dataframe to an interactive table.\"\n",
              "            style=\"display:none;\">\n",
              "\n",
              "  <svg xmlns=\"http://www.w3.org/2000/svg\" height=\"24px\" viewBox=\"0 -960 960 960\">\n",
              "    <path d=\"M120-120v-720h720v720H120Zm60-500h600v-160H180v160Zm220 220h160v-160H400v160Zm0 220h160v-160H400v160ZM180-400h160v-160H180v160Zm440 0h160v-160H620v160ZM180-180h160v-160H180v160Zm440 0h160v-160H620v160Z\"/>\n",
              "  </svg>\n",
              "    </button>\n",
              "\n",
              "  <style>\n",
              "    .colab-df-container {\n",
              "      display:flex;\n",
              "      gap: 12px;\n",
              "    }\n",
              "\n",
              "    .colab-df-convert {\n",
              "      background-color: #E8F0FE;\n",
              "      border: none;\n",
              "      border-radius: 50%;\n",
              "      cursor: pointer;\n",
              "      display: none;\n",
              "      fill: #1967D2;\n",
              "      height: 32px;\n",
              "      padding: 0 0 0 0;\n",
              "      width: 32px;\n",
              "    }\n",
              "\n",
              "    .colab-df-convert:hover {\n",
              "      background-color: #E2EBFA;\n",
              "      box-shadow: 0px 1px 2px rgba(60, 64, 67, 0.3), 0px 1px 3px 1px rgba(60, 64, 67, 0.15);\n",
              "      fill: #174EA6;\n",
              "    }\n",
              "\n",
              "    .colab-df-buttons div {\n",
              "      margin-bottom: 4px;\n",
              "    }\n",
              "\n",
              "    [theme=dark] .colab-df-convert {\n",
              "      background-color: #3B4455;\n",
              "      fill: #D2E3FC;\n",
              "    }\n",
              "\n",
              "    [theme=dark] .colab-df-convert:hover {\n",
              "      background-color: #434B5C;\n",
              "      box-shadow: 0px 1px 3px 1px rgba(0, 0, 0, 0.15);\n",
              "      filter: drop-shadow(0px 1px 2px rgba(0, 0, 0, 0.3));\n",
              "      fill: #FFFFFF;\n",
              "    }\n",
              "  </style>\n",
              "\n",
              "    <script>\n",
              "      const buttonEl =\n",
              "        document.querySelector('#df-81d7b418-423a-4b2f-8f2a-c69c076bc8d2 button.colab-df-convert');\n",
              "      buttonEl.style.display =\n",
              "        google.colab.kernel.accessAllowed ? 'block' : 'none';\n",
              "\n",
              "      async function convertToInteractive(key) {\n",
              "        const element = document.querySelector('#df-81d7b418-423a-4b2f-8f2a-c69c076bc8d2');\n",
              "        const dataTable =\n",
              "          await google.colab.kernel.invokeFunction('convertToInteractive',\n",
              "                                                    [key], {});\n",
              "        if (!dataTable) return;\n",
              "\n",
              "        const docLinkHtml = 'Like what you see? Visit the ' +\n",
              "          '<a target=\"_blank\" href=https://colab.research.google.com/notebooks/data_table.ipynb>data table notebook</a>'\n",
              "          + ' to learn more about interactive tables.';\n",
              "        element.innerHTML = '';\n",
              "        dataTable['output_type'] = 'display_data';\n",
              "        await google.colab.output.renderOutput(dataTable, element);\n",
              "        const docLink = document.createElement('div');\n",
              "        docLink.innerHTML = docLinkHtml;\n",
              "        element.appendChild(docLink);\n",
              "      }\n",
              "    </script>\n",
              "  </div>\n",
              "\n",
              "\n",
              "<div id=\"df-97ee0121-2e3a-46f9-9894-96e1cd69e789\">\n",
              "  <button class=\"colab-df-quickchart\" onclick=\"quickchart('df-97ee0121-2e3a-46f9-9894-96e1cd69e789')\"\n",
              "            title=\"Suggest charts\"\n",
              "            style=\"display:none;\">\n",
              "\n",
              "<svg xmlns=\"http://www.w3.org/2000/svg\" height=\"24px\"viewBox=\"0 0 24 24\"\n",
              "     width=\"24px\">\n",
              "    <g>\n",
              "        <path d=\"M19 3H5c-1.1 0-2 .9-2 2v14c0 1.1.9 2 2 2h14c1.1 0 2-.9 2-2V5c0-1.1-.9-2-2-2zM9 17H7v-7h2v7zm4 0h-2V7h2v10zm4 0h-2v-4h2v4z\"/>\n",
              "    </g>\n",
              "</svg>\n",
              "  </button>\n",
              "\n",
              "<style>\n",
              "  .colab-df-quickchart {\n",
              "      --bg-color: #E8F0FE;\n",
              "      --fill-color: #1967D2;\n",
              "      --hover-bg-color: #E2EBFA;\n",
              "      --hover-fill-color: #174EA6;\n",
              "      --disabled-fill-color: #AAA;\n",
              "      --disabled-bg-color: #DDD;\n",
              "  }\n",
              "\n",
              "  [theme=dark] .colab-df-quickchart {\n",
              "      --bg-color: #3B4455;\n",
              "      --fill-color: #D2E3FC;\n",
              "      --hover-bg-color: #434B5C;\n",
              "      --hover-fill-color: #FFFFFF;\n",
              "      --disabled-bg-color: #3B4455;\n",
              "      --disabled-fill-color: #666;\n",
              "  }\n",
              "\n",
              "  .colab-df-quickchart {\n",
              "    background-color: var(--bg-color);\n",
              "    border: none;\n",
              "    border-radius: 50%;\n",
              "    cursor: pointer;\n",
              "    display: none;\n",
              "    fill: var(--fill-color);\n",
              "    height: 32px;\n",
              "    padding: 0;\n",
              "    width: 32px;\n",
              "  }\n",
              "\n",
              "  .colab-df-quickchart:hover {\n",
              "    background-color: var(--hover-bg-color);\n",
              "    box-shadow: 0 1px 2px rgba(60, 64, 67, 0.3), 0 1px 3px 1px rgba(60, 64, 67, 0.15);\n",
              "    fill: var(--button-hover-fill-color);\n",
              "  }\n",
              "\n",
              "  .colab-df-quickchart-complete:disabled,\n",
              "  .colab-df-quickchart-complete:disabled:hover {\n",
              "    background-color: var(--disabled-bg-color);\n",
              "    fill: var(--disabled-fill-color);\n",
              "    box-shadow: none;\n",
              "  }\n",
              "\n",
              "  .colab-df-spinner {\n",
              "    border: 2px solid var(--fill-color);\n",
              "    border-color: transparent;\n",
              "    border-bottom-color: var(--fill-color);\n",
              "    animation:\n",
              "      spin 1s steps(1) infinite;\n",
              "  }\n",
              "\n",
              "  @keyframes spin {\n",
              "    0% {\n",
              "      border-color: transparent;\n",
              "      border-bottom-color: var(--fill-color);\n",
              "      border-left-color: var(--fill-color);\n",
              "    }\n",
              "    20% {\n",
              "      border-color: transparent;\n",
              "      border-left-color: var(--fill-color);\n",
              "      border-top-color: var(--fill-color);\n",
              "    }\n",
              "    30% {\n",
              "      border-color: transparent;\n",
              "      border-left-color: var(--fill-color);\n",
              "      border-top-color: var(--fill-color);\n",
              "      border-right-color: var(--fill-color);\n",
              "    }\n",
              "    40% {\n",
              "      border-color: transparent;\n",
              "      border-right-color: var(--fill-color);\n",
              "      border-top-color: var(--fill-color);\n",
              "    }\n",
              "    60% {\n",
              "      border-color: transparent;\n",
              "      border-right-color: var(--fill-color);\n",
              "    }\n",
              "    80% {\n",
              "      border-color: transparent;\n",
              "      border-right-color: var(--fill-color);\n",
              "      border-bottom-color: var(--fill-color);\n",
              "    }\n",
              "    90% {\n",
              "      border-color: transparent;\n",
              "      border-bottom-color: var(--fill-color);\n",
              "    }\n",
              "  }\n",
              "</style>\n",
              "\n",
              "  <script>\n",
              "    async function quickchart(key) {\n",
              "      const quickchartButtonEl =\n",
              "        document.querySelector('#' + key + ' button');\n",
              "      quickchartButtonEl.disabled = true;  // To prevent multiple clicks.\n",
              "      quickchartButtonEl.classList.add('colab-df-spinner');\n",
              "      try {\n",
              "        const charts = await google.colab.kernel.invokeFunction(\n",
              "            'suggestCharts', [key], {});\n",
              "      } catch (error) {\n",
              "        console.error('Error during call to suggestCharts:', error);\n",
              "      }\n",
              "      quickchartButtonEl.classList.remove('colab-df-spinner');\n",
              "      quickchartButtonEl.classList.add('colab-df-quickchart-complete');\n",
              "    }\n",
              "    (() => {\n",
              "      let quickchartButtonEl =\n",
              "        document.querySelector('#df-97ee0121-2e3a-46f9-9894-96e1cd69e789 button');\n",
              "      quickchartButtonEl.style.display =\n",
              "        google.colab.kernel.accessAllowed ? 'block' : 'none';\n",
              "    })();\n",
              "  </script>\n",
              "</div>\n",
              "    </div>\n",
              "  </div>\n"
            ],
            "text/plain": [
              "   sepal_length  sepal_width  petal_length  petal_width species\n",
              "0           5.1          3.5           1.4          0.2  setosa\n",
              "1           4.9          3.0           1.4          0.2  setosa\n",
              "2           4.7          3.2           1.3          0.2  setosa\n",
              "3           4.6          3.1           1.5          0.2  setosa\n",
              "4           5.0          3.6           1.4          0.2  setosa\n",
              "5           5.4          3.9           1.7          0.4  setosa\n",
              "6           4.6          3.4           1.4          0.3  setosa\n",
              "7           5.0          3.4           1.5          0.2  setosa\n",
              "8           4.4          2.9           1.4          0.2  setosa\n",
              "9           4.9          3.1           1.5          0.1  setosa"
            ]
          },
          "execution_count": 2,
          "metadata": {},
          "output_type": "execute_result"
        }
      ],
      "source": [
        "# Tomar el conjunto de datos iris que ofrece Seaborn\n",
        "data = sns.load_dataset('iris')\n",
        "\n",
        "\n",
        "data.head(10)\n"
      ]
    },
    {
      "cell_type": "code",
      "execution_count": null,
      "metadata": {
        "colab": {
          "base_uri": "https://localhost:8080/"
        },
        "id": "jHVNSWLvpSEm",
        "outputId": "a07f3350-3f0b-4ef2-aa92-5dd268cf66a1"
      },
      "outputs": [
        {
          "name": "stdout",
          "output_type": "stream",
          "text": [
            "Index(['sepal_length', 'sepal_width', 'petal_length', 'petal_width',\n",
            "       'species'],\n",
            "      dtype='object')\n",
            "Shape of DataFrame: (150, 5)\n"
          ]
        }
      ],
      "source": [
        "# Verificar las columnas y el tamaño del DataFrame\n",
        "print(data.columns)\n",
        "print(\"Shape of DataFrame:\", data.shape)\n"
      ]
    },
    {
      "cell_type": "code",
      "execution_count": null,
      "metadata": {
        "colab": {
          "base_uri": "https://localhost:8080/"
        },
        "id": "4PkbJT1Npe81",
        "outputId": "4da6babe-f2ff-430b-bb7f-eb1cc1849172"
      },
      "outputs": [
        {
          "name": "stdout",
          "output_type": "stream",
          "text": [
            "Número total de valores nulos: 0\n"
          ]
        }
      ],
      "source": [
        "total_nan = data.isna().sum().sum()\n",
        "\n",
        "print(f\"Número total de valores nulos: {total_nan}\")\n"
      ]
    },
    {
      "cell_type": "code",
      "execution_count": null,
      "metadata": {
        "colab": {
          "base_uri": "https://localhost:8080/"
        },
        "id": "n8CToyU7p7mT",
        "outputId": "f9198be1-ca9f-4121-d455-bc0b3a40a73f"
      },
      "outputs": [
        {
          "data": {
            "text/plain": [
              "sepal_length    float64\n",
              "sepal_width     float64\n",
              "petal_length    float64\n",
              "petal_width     float64\n",
              "species          object\n",
              "dtype: object"
            ]
          },
          "execution_count": 34,
          "metadata": {},
          "output_type": "execute_result"
        }
      ],
      "source": [
        "data.dtypes"
      ]
    },
    {
      "cell_type": "code",
      "execution_count": null,
      "metadata": {
        "id": "8DulwuANvX6_"
      },
      "outputs": [],
      "source": [
        "#Selección de características y etiquetas\n",
        "X = data.drop('species', axis=1)\n",
        "y = data['species']\n"
      ]
    },
    {
      "cell_type": "code",
      "execution_count": null,
      "metadata": {
        "id": "9f-uD6Y1vuqH"
      },
      "outputs": [],
      "source": [
        "# Dividir el conjunto de datos en conjuntos de entrenamiento y prueba (70-30%)\n",
        "X_train, X_test, y_train, y_test = train_test_split(X, y, test_size=0.3, random_state=42)"
      ]
    },
    {
      "cell_type": "markdown",
      "metadata": {
        "id": "ZXBos5V0xuNZ"
      },
      "source": [
        "En el caso que nos ocupa, vemos factible aplicar una proporción de 70%-30% entre los conjuntos de entrenamiento y prueba ya que el tamaño de la muestra es bastante reducido (solo 150 muestras) y las características de los análisis que vamos a realizar nos lo permite manteniendose relativamente fiables."
      ]
    },
    {
      "cell_type": "code",
      "execution_count": null,
      "metadata": {
        "id": "q8G1a0p3yc7o"
      },
      "outputs": [],
      "source": [
        "#Escalado de Características\n",
        "\n",
        "scaler = StandardScaler()\n",
        "X_train_scaled = scaler.fit_transform(X_train)\n",
        "X_test_scaled = scaler.transform(X_test)\n"
      ]
    },
    {
      "cell_type": "code",
      "execution_count": null,
      "metadata": {
        "colab": {
          "base_uri": "https://localhost:8080/"
        },
        "id": "Swu5BORfyr5P",
        "outputId": "d64712cf-9c08-41de-8c43-9341be962ca1"
      },
      "outputs": [
        {
          "name": "stderr",
          "output_type": "stream",
          "text": [
            "/usr/local/lib/python3.10/dist-packages/sklearn/preprocessing/_encoders.py:868: FutureWarning: `sparse` was renamed to `sparse_output` in version 1.2 and will be removed in 1.4. `sparse_output` is ignored unless you leave `sparse` to its default value.\n",
            "  warnings.warn(\n"
          ]
        }
      ],
      "source": [
        "\n",
        "encoder = OneHotEncoder(sparse=False)\n",
        "\n",
        "# Ajustar y transformar las etiquetas de entrenamiento y prueba\n",
        "y_train_encoded = encoder.fit_transform(y_train.values.reshape(-1, 1))\n",
        "y_test_encoded = encoder.transform(y_test.values.reshape(-1, 1))\n"
      ]
    },
    {
      "cell_type": "markdown",
      "metadata": {
        "id": "NNTrnKDB6Z4P"
      },
      "source": [
        "##Support Vector Machines\n"
      ]
    },
    {
      "cell_type": "code",
      "execution_count": null,
      "metadata": {
        "colab": {
          "base_uri": "https://localhost:8080/"
        },
        "id": "tSW7soq86jYX",
        "outputId": "0275ff49-4eeb-4f07-a2e0-2babc59c5824"
      },
      "outputs": [
        {
          "name": "stdout",
          "output_type": "stream",
          "text": [
            "Support Vector Machines:\n",
            "Accuracy: 1.0\n",
            "Precision: 1.0\n",
            "Recall: 1.0\n",
            "F1-score: 1.0\n"
          ]
        }
      ],
      "source": [
        "\n",
        "\n",
        "# Inicializar y entrenar el modelo SVM\n",
        "svm_model = SVC(kernel='linear', random_state=42)\n",
        "svm_model.fit(X_train, y_train)\n",
        "\n",
        "# Realizar predicciones en el conjunto de prueba\n",
        "svm_pred = svm_model.predict(X_test)\n",
        "\n",
        "# Calcular métricas\n",
        "svm_accuracy = accuracy_score(y_test, svm_pred)\n",
        "svm_precision = precision_score(y_test, svm_pred, average='weighted')\n",
        "svm_recall = recall_score(y_test, svm_pred, average='weighted')\n",
        "svm_f1 = f1_score(y_test, svm_pred, average='weighted')\n",
        "\n",
        "# Imprimir métricas\n",
        "print(\"Support Vector Machines:\")\n",
        "print(\"Accuracy:\", svm_accuracy)\n",
        "print(\"Precision:\", svm_precision)\n",
        "print(\"Recall:\", svm_recall)\n",
        "print(\"F1-score:\", svm_f1)\n"
      ]
    },
    {
      "cell_type": "markdown",
      "metadata": {
        "id": "wdnlOETE6--3"
      },
      "source": [
        "##Random Forest\n",
        "\n"
      ]
    },
    {
      "cell_type": "code",
      "execution_count": null,
      "metadata": {
        "colab": {
          "base_uri": "https://localhost:8080/"
        },
        "id": "CA7GH7o47FNC",
        "outputId": "854a7c95-c916-43fd-b12d-0c2985c2800d"
      },
      "outputs": [
        {
          "name": "stdout",
          "output_type": "stream",
          "text": [
            "Random Forest:\n",
            "Accuracy: 1.0\n",
            "Precision: 1.0\n",
            "Recall: 1.0\n",
            "F1-score: 1.0\n"
          ]
        }
      ],
      "source": [
        "\n",
        "# Inicializar y entrenar el modelo Random Forest\n",
        "rf_model = RandomForestClassifier(random_state=42)\n",
        "rf_model.fit(X_train, y_train)\n",
        "\n",
        "# Realizar predicciones en el conjunto de prueba\n",
        "rf_pred = rf_model.predict(X_test)\n",
        "\n",
        "# Calcular métricas\n",
        "rf_accuracy = accuracy_score(y_test, rf_pred)\n",
        "rf_precision = precision_score(y_test, rf_pred, average='weighted')\n",
        "rf_recall = recall_score(y_test, rf_pred, average='weighted')\n",
        "rf_f1 = f1_score(y_test, rf_pred, average='weighted')\n",
        "\n",
        "print(\"Random Forest:\")\n",
        "print(\"Accuracy:\", rf_accuracy)\n",
        "print(\"Precision:\", rf_precision)\n",
        "print(\"Recall:\", rf_recall)\n",
        "print(\"F1-score:\", rf_f1)\n"
      ]
    },
    {
      "cell_type": "markdown",
      "metadata": {
        "id": "GLrqWTDh7Zhp"
      },
      "source": [
        "##Naive Bayes"
      ]
    },
    {
      "cell_type": "code",
      "execution_count": null,
      "metadata": {
        "colab": {
          "base_uri": "https://localhost:8080/"
        },
        "id": "CxIoWA9v7e2K",
        "outputId": "e8d45484-e040-4040-e3bd-e30ad48941b8"
      },
      "outputs": [
        {
          "name": "stdout",
          "output_type": "stream",
          "text": [
            "Naive Bayes:\n",
            "Accuracy: 0.9777777777777777\n",
            "Precision: 0.9793650793650793\n",
            "Recall: 0.9777777777777777\n",
            "F1-score: 0.9777448559670783\n"
          ]
        }
      ],
      "source": [
        "from sklearn.naive_bayes import GaussianNB\n",
        "from sklearn.metrics import accuracy_score, precision_score, recall_score, f1_score\n",
        "\n",
        "# Inicializar y entrenar el modelo Naive Bayes\n",
        "nb_model = GaussianNB()\n",
        "nb_model.fit(X_train, y_train)\n",
        "\n",
        "# Realizar predicciones en el conjunto de prueba\n",
        "nb_pred = nb_model.predict(X_test)\n",
        "\n",
        "# Calcular métricas\n",
        "nb_accuracy = accuracy_score(y_test, nb_pred)\n",
        "nb_precision = precision_score(y_test, nb_pred, average='weighted')\n",
        "nb_recall = recall_score(y_test, nb_pred, average='weighted')\n",
        "nb_f1 = f1_score(y_test, nb_pred, average='weighted')\n",
        "\n",
        "# Imprimir métricas\n",
        "print(\"Naive Bayes:\")\n",
        "print(\"Accuracy:\", nb_accuracy)\n",
        "print(\"Precision:\", nb_precision)\n",
        "print(\"Recall:\", nb_recall)\n",
        "print(\"F1-score:\", nb_f1)\n"
      ]
    },
    {
      "cell_type": "markdown",
      "metadata": {
        "id": "G2w41g698sRk"
      },
      "source": [
        "##Discusión\n",
        "\n",
        "Según los resultados obtenidos en el apartado C, el Naive Bayes tiene una accuracy del 97.78%, mientras que tanto Random Forest como SVM alcanzan el 100%. Esto sugiere que Random Forest y SVM clasifican todas las muestras correctamente, mientras que Naive Bayes presenta algunas clasificaciones incorrectas.\n",
        "\n",
        "En términos de precisión, Naive Bayes muestra un valor del 97.94%, en comparación con el 100% de precisión logrado por Random Forest y SVM. Esto implica que Naive Bayes es ligeramente menos preciso en la identificación de muestras positivas en comparación con los otros dos modelos.\n",
        "\n",
        "En cuanto al recall, Naive Bayes obtiene un 97.78%, mientras que Random Forest y SVM nuevamente logran un 100%. Esto indica que Naive Bayes no identifica todas las muestras positivas correctamente, a diferencia de Random Forest y SVM que lo hacen de manera perfecta.\n",
        "\n",
        "El F1-score de Naive Bayes es del 97.77%, mientras que el de Random Forest y SVM es del 100%. Este resultado refleja que la combinación de precisión y recall es perfecta en Random Forest y SVM, mientras que en Naive Bayes hay una pequeña disminución en el rendimiento.\n",
        "\n",
        "En conclusión, Random Forest y SVM tienen un rendimiento perfecto según los resultados obtenidos (accuracy, precision, recall y f1-score). Entre ellos no hay un claro ganador en términos de métricas de rendimiento, ya que ambos obtienen resultados perfectos. Sin embargo, Random Forest puede ser más fiable cuando se necesita interpretar el modelo (ya que proporciona información sobre la importancia de las características y puede manejar datos con valores perdidos o outliers de manera más robusta) y SVM puede ser preferido en situaciones donde el número de características es alto en comparación con el número de muestras, o cuando se busca maximizar el margen de clasificación entre clases."
      ]
    },
    {
      "cell_type": "markdown",
      "metadata": {
        "id": "HGG_XAdv8up5"
      },
      "source": [
        "# Implementación de algoritmos de aprendizaje automático profundo\n",
        "\n",
        "Como paso previo, y para evitar perder el archivo de datos en caso de borrado de la sesión de ejecución en Colab, subimos una copia del archivo de datos al Github compartido del equipo.\n",
        "Así, el archivo estará disponible a través de la URL para su carga con Pandas.\n"
      ]
    },
    {
      "cell_type": "code",
      "execution_count": 7,
      "metadata": {
        "id": "XM7bLp-RS9az"
      },
      "outputs": [],
      "source": [
        "# Variables Globales a este segundo ejercicio\n",
        "data_file_url = 'https://raw.githubusercontent.com/tnarrosf/unir-mubio01-grupo5/main/python/datos/sentiment_analysis.csv'\n",
        "\n",
        "# Carga del modelo del idioma inglés de spaCy\n",
        "nlp = spacy.load('en_core_web_sm')\n"
      ]
    },
    {
      "cell_type": "markdown",
      "metadata": {
        "id": "pODncGyNMCNs"
      },
      "source": [
        "## Carga y preprocesamiento de los datos\n"
      ]
    },
    {
      "cell_type": "code",
      "execution_count": 8,
      "metadata": {
        "colab": {
          "base_uri": "https://localhost:8080/",
          "height": 677
        },
        "id": "d4Hpot1DSvFJ",
        "outputId": "edcc516d-7cd2-4d1d-9608-33a236d3e7ac"
      },
      "outputs": [
        {
          "output_type": "execute_result",
          "data": {
            "text/plain": [
              "    Polaridad     Id_tuit                         Fecha     Query  \\\n",
              "0           0  1467810672  Mon Apr 06 22:19:49 PDT 2009  NO_QUERY   \n",
              "1           0  1467810917  Mon Apr 06 22:19:53 PDT 2009  NO_QUERY   \n",
              "2           0  1467811184  Mon Apr 06 22:19:57 PDT 2009  NO_QUERY   \n",
              "3           0  1467811193  Mon Apr 06 22:19:57 PDT 2009  NO_QUERY   \n",
              "4           0  1467811372  Mon Apr 06 22:20:00 PDT 2009  NO_QUERY   \n",
              "5           0  1467811592  Mon Apr 06 22:20:03 PDT 2009  NO_QUERY   \n",
              "6           0  1467811594  Mon Apr 06 22:20:03 PDT 2009  NO_QUERY   \n",
              "7           0  1467812579  Mon Apr 06 22:20:17 PDT 2009  NO_QUERY   \n",
              "8           0  1467812723  Mon Apr 06 22:20:19 PDT 2009  NO_QUERY   \n",
              "9           0  1467812771  Mon Apr 06 22:20:19 PDT 2009  NO_QUERY   \n",
              "10          0  1467812784  Mon Apr 06 22:20:20 PDT 2009  NO_QUERY   \n",
              "11          0  1467812799  Mon Apr 06 22:20:20 PDT 2009  NO_QUERY   \n",
              "12          0  1467812964  Mon Apr 06 22:20:22 PDT 2009  NO_QUERY   \n",
              "13          0  1467813137  Mon Apr 06 22:20:25 PDT 2009  NO_QUERY   \n",
              "14          0  1467813579  Mon Apr 06 22:20:31 PDT 2009  NO_QUERY   \n",
              "15          0  1467813782  Mon Apr 06 22:20:34 PDT 2009  NO_QUERY   \n",
              "16          0  1467813985  Mon Apr 06 22:20:37 PDT 2009  NO_QUERY   \n",
              "17          0  1467813992  Mon Apr 06 22:20:38 PDT 2009  NO_QUERY   \n",
              "18          0  1467814119  Mon Apr 06 22:20:40 PDT 2009  NO_QUERY   \n",
              "19          0  1467814180  Mon Apr 06 22:20:40 PDT 2009  NO_QUERY   \n",
              "\n",
              "            Usuario                                               Tuit  \n",
              "0     scotthamilton  is upset that he can't update his Facebook by ...  \n",
              "1          mattycus  @Kenichan I dived many times for the ball. Man...  \n",
              "2           ElleCTF    my whole body feels itchy and like its on fire   \n",
              "3            Karoli  @nationwideclass no, it's not behaving at all....  \n",
              "4          joy_wolf                      @Kwesidei not the whole crew   \n",
              "5           mybirch                                        Need a hug   \n",
              "6              coZZ  @LOLTrish hey  long time no see! Yes.. Rains a...  \n",
              "7      pardonlauren                         I just re-pierced my ears   \n",
              "8              TLeC  @caregiving I couldn't bear to watch it.  And ...  \n",
              "9   robrobbierobert  @octolinz16 It it counts, idk why I did either...  \n",
              "10      bayofwolves  @smarrison i would've been the first, but i di...  \n",
              "11       HairByJess  @iamjazzyfizzle I wish I got to watch it with ...  \n",
              "12   lovesongwriter  Hollis' death scene will hurt me severely to w...  \n",
              "13         armotley                               about to file taxes   \n",
              "14       starkissed  @LettyA ahh ive always wanted to see rent  lov...  \n",
              "15        gi_gi_bee  @FakerPattyPattz Oh dear. Were you drinking ou...  \n",
              "16           quanvu  @alydesigns i was out most of the day so didn'...  \n",
              "17       swinspeedx  one of my friend called me, and asked to meet ...  \n",
              "18        cooliodoc   @angry_barista I baked you a cake but I ated it   \n",
              "19       viJILLante             this week is not going as i had hoped   "
            ],
            "text/html": [
              "\n",
              "  <div id=\"df-e347ce13-7820-4fdc-a7d9-3755a83a0e80\" class=\"colab-df-container\">\n",
              "    <div>\n",
              "<style scoped>\n",
              "    .dataframe tbody tr th:only-of-type {\n",
              "        vertical-align: middle;\n",
              "    }\n",
              "\n",
              "    .dataframe tbody tr th {\n",
              "        vertical-align: top;\n",
              "    }\n",
              "\n",
              "    .dataframe thead th {\n",
              "        text-align: right;\n",
              "    }\n",
              "</style>\n",
              "<table border=\"1\" class=\"dataframe\">\n",
              "  <thead>\n",
              "    <tr style=\"text-align: right;\">\n",
              "      <th></th>\n",
              "      <th>Polaridad</th>\n",
              "      <th>Id_tuit</th>\n",
              "      <th>Fecha</th>\n",
              "      <th>Query</th>\n",
              "      <th>Usuario</th>\n",
              "      <th>Tuit</th>\n",
              "    </tr>\n",
              "  </thead>\n",
              "  <tbody>\n",
              "    <tr>\n",
              "      <th>0</th>\n",
              "      <td>0</td>\n",
              "      <td>1467810672</td>\n",
              "      <td>Mon Apr 06 22:19:49 PDT 2009</td>\n",
              "      <td>NO_QUERY</td>\n",
              "      <td>scotthamilton</td>\n",
              "      <td>is upset that he can't update his Facebook by ...</td>\n",
              "    </tr>\n",
              "    <tr>\n",
              "      <th>1</th>\n",
              "      <td>0</td>\n",
              "      <td>1467810917</td>\n",
              "      <td>Mon Apr 06 22:19:53 PDT 2009</td>\n",
              "      <td>NO_QUERY</td>\n",
              "      <td>mattycus</td>\n",
              "      <td>@Kenichan I dived many times for the ball. Man...</td>\n",
              "    </tr>\n",
              "    <tr>\n",
              "      <th>2</th>\n",
              "      <td>0</td>\n",
              "      <td>1467811184</td>\n",
              "      <td>Mon Apr 06 22:19:57 PDT 2009</td>\n",
              "      <td>NO_QUERY</td>\n",
              "      <td>ElleCTF</td>\n",
              "      <td>my whole body feels itchy and like its on fire</td>\n",
              "    </tr>\n",
              "    <tr>\n",
              "      <th>3</th>\n",
              "      <td>0</td>\n",
              "      <td>1467811193</td>\n",
              "      <td>Mon Apr 06 22:19:57 PDT 2009</td>\n",
              "      <td>NO_QUERY</td>\n",
              "      <td>Karoli</td>\n",
              "      <td>@nationwideclass no, it's not behaving at all....</td>\n",
              "    </tr>\n",
              "    <tr>\n",
              "      <th>4</th>\n",
              "      <td>0</td>\n",
              "      <td>1467811372</td>\n",
              "      <td>Mon Apr 06 22:20:00 PDT 2009</td>\n",
              "      <td>NO_QUERY</td>\n",
              "      <td>joy_wolf</td>\n",
              "      <td>@Kwesidei not the whole crew</td>\n",
              "    </tr>\n",
              "    <tr>\n",
              "      <th>5</th>\n",
              "      <td>0</td>\n",
              "      <td>1467811592</td>\n",
              "      <td>Mon Apr 06 22:20:03 PDT 2009</td>\n",
              "      <td>NO_QUERY</td>\n",
              "      <td>mybirch</td>\n",
              "      <td>Need a hug</td>\n",
              "    </tr>\n",
              "    <tr>\n",
              "      <th>6</th>\n",
              "      <td>0</td>\n",
              "      <td>1467811594</td>\n",
              "      <td>Mon Apr 06 22:20:03 PDT 2009</td>\n",
              "      <td>NO_QUERY</td>\n",
              "      <td>coZZ</td>\n",
              "      <td>@LOLTrish hey  long time no see! Yes.. Rains a...</td>\n",
              "    </tr>\n",
              "    <tr>\n",
              "      <th>7</th>\n",
              "      <td>0</td>\n",
              "      <td>1467812579</td>\n",
              "      <td>Mon Apr 06 22:20:17 PDT 2009</td>\n",
              "      <td>NO_QUERY</td>\n",
              "      <td>pardonlauren</td>\n",
              "      <td>I just re-pierced my ears</td>\n",
              "    </tr>\n",
              "    <tr>\n",
              "      <th>8</th>\n",
              "      <td>0</td>\n",
              "      <td>1467812723</td>\n",
              "      <td>Mon Apr 06 22:20:19 PDT 2009</td>\n",
              "      <td>NO_QUERY</td>\n",
              "      <td>TLeC</td>\n",
              "      <td>@caregiving I couldn't bear to watch it.  And ...</td>\n",
              "    </tr>\n",
              "    <tr>\n",
              "      <th>9</th>\n",
              "      <td>0</td>\n",
              "      <td>1467812771</td>\n",
              "      <td>Mon Apr 06 22:20:19 PDT 2009</td>\n",
              "      <td>NO_QUERY</td>\n",
              "      <td>robrobbierobert</td>\n",
              "      <td>@octolinz16 It it counts, idk why I did either...</td>\n",
              "    </tr>\n",
              "    <tr>\n",
              "      <th>10</th>\n",
              "      <td>0</td>\n",
              "      <td>1467812784</td>\n",
              "      <td>Mon Apr 06 22:20:20 PDT 2009</td>\n",
              "      <td>NO_QUERY</td>\n",
              "      <td>bayofwolves</td>\n",
              "      <td>@smarrison i would've been the first, but i di...</td>\n",
              "    </tr>\n",
              "    <tr>\n",
              "      <th>11</th>\n",
              "      <td>0</td>\n",
              "      <td>1467812799</td>\n",
              "      <td>Mon Apr 06 22:20:20 PDT 2009</td>\n",
              "      <td>NO_QUERY</td>\n",
              "      <td>HairByJess</td>\n",
              "      <td>@iamjazzyfizzle I wish I got to watch it with ...</td>\n",
              "    </tr>\n",
              "    <tr>\n",
              "      <th>12</th>\n",
              "      <td>0</td>\n",
              "      <td>1467812964</td>\n",
              "      <td>Mon Apr 06 22:20:22 PDT 2009</td>\n",
              "      <td>NO_QUERY</td>\n",
              "      <td>lovesongwriter</td>\n",
              "      <td>Hollis' death scene will hurt me severely to w...</td>\n",
              "    </tr>\n",
              "    <tr>\n",
              "      <th>13</th>\n",
              "      <td>0</td>\n",
              "      <td>1467813137</td>\n",
              "      <td>Mon Apr 06 22:20:25 PDT 2009</td>\n",
              "      <td>NO_QUERY</td>\n",
              "      <td>armotley</td>\n",
              "      <td>about to file taxes</td>\n",
              "    </tr>\n",
              "    <tr>\n",
              "      <th>14</th>\n",
              "      <td>0</td>\n",
              "      <td>1467813579</td>\n",
              "      <td>Mon Apr 06 22:20:31 PDT 2009</td>\n",
              "      <td>NO_QUERY</td>\n",
              "      <td>starkissed</td>\n",
              "      <td>@LettyA ahh ive always wanted to see rent  lov...</td>\n",
              "    </tr>\n",
              "    <tr>\n",
              "      <th>15</th>\n",
              "      <td>0</td>\n",
              "      <td>1467813782</td>\n",
              "      <td>Mon Apr 06 22:20:34 PDT 2009</td>\n",
              "      <td>NO_QUERY</td>\n",
              "      <td>gi_gi_bee</td>\n",
              "      <td>@FakerPattyPattz Oh dear. Were you drinking ou...</td>\n",
              "    </tr>\n",
              "    <tr>\n",
              "      <th>16</th>\n",
              "      <td>0</td>\n",
              "      <td>1467813985</td>\n",
              "      <td>Mon Apr 06 22:20:37 PDT 2009</td>\n",
              "      <td>NO_QUERY</td>\n",
              "      <td>quanvu</td>\n",
              "      <td>@alydesigns i was out most of the day so didn'...</td>\n",
              "    </tr>\n",
              "    <tr>\n",
              "      <th>17</th>\n",
              "      <td>0</td>\n",
              "      <td>1467813992</td>\n",
              "      <td>Mon Apr 06 22:20:38 PDT 2009</td>\n",
              "      <td>NO_QUERY</td>\n",
              "      <td>swinspeedx</td>\n",
              "      <td>one of my friend called me, and asked to meet ...</td>\n",
              "    </tr>\n",
              "    <tr>\n",
              "      <th>18</th>\n",
              "      <td>0</td>\n",
              "      <td>1467814119</td>\n",
              "      <td>Mon Apr 06 22:20:40 PDT 2009</td>\n",
              "      <td>NO_QUERY</td>\n",
              "      <td>cooliodoc</td>\n",
              "      <td>@angry_barista I baked you a cake but I ated it</td>\n",
              "    </tr>\n",
              "    <tr>\n",
              "      <th>19</th>\n",
              "      <td>0</td>\n",
              "      <td>1467814180</td>\n",
              "      <td>Mon Apr 06 22:20:40 PDT 2009</td>\n",
              "      <td>NO_QUERY</td>\n",
              "      <td>viJILLante</td>\n",
              "      <td>this week is not going as i had hoped</td>\n",
              "    </tr>\n",
              "  </tbody>\n",
              "</table>\n",
              "</div>\n",
              "    <div class=\"colab-df-buttons\">\n",
              "\n",
              "  <div class=\"colab-df-container\">\n",
              "    <button class=\"colab-df-convert\" onclick=\"convertToInteractive('df-e347ce13-7820-4fdc-a7d9-3755a83a0e80')\"\n",
              "            title=\"Convert this dataframe to an interactive table.\"\n",
              "            style=\"display:none;\">\n",
              "\n",
              "  <svg xmlns=\"http://www.w3.org/2000/svg\" height=\"24px\" viewBox=\"0 -960 960 960\">\n",
              "    <path d=\"M120-120v-720h720v720H120Zm60-500h600v-160H180v160Zm220 220h160v-160H400v160Zm0 220h160v-160H400v160ZM180-400h160v-160H180v160Zm440 0h160v-160H620v160ZM180-180h160v-160H180v160Zm440 0h160v-160H620v160Z\"/>\n",
              "  </svg>\n",
              "    </button>\n",
              "\n",
              "  <style>\n",
              "    .colab-df-container {\n",
              "      display:flex;\n",
              "      gap: 12px;\n",
              "    }\n",
              "\n",
              "    .colab-df-convert {\n",
              "      background-color: #E8F0FE;\n",
              "      border: none;\n",
              "      border-radius: 50%;\n",
              "      cursor: pointer;\n",
              "      display: none;\n",
              "      fill: #1967D2;\n",
              "      height: 32px;\n",
              "      padding: 0 0 0 0;\n",
              "      width: 32px;\n",
              "    }\n",
              "\n",
              "    .colab-df-convert:hover {\n",
              "      background-color: #E2EBFA;\n",
              "      box-shadow: 0px 1px 2px rgba(60, 64, 67, 0.3), 0px 1px 3px 1px rgba(60, 64, 67, 0.15);\n",
              "      fill: #174EA6;\n",
              "    }\n",
              "\n",
              "    .colab-df-buttons div {\n",
              "      margin-bottom: 4px;\n",
              "    }\n",
              "\n",
              "    [theme=dark] .colab-df-convert {\n",
              "      background-color: #3B4455;\n",
              "      fill: #D2E3FC;\n",
              "    }\n",
              "\n",
              "    [theme=dark] .colab-df-convert:hover {\n",
              "      background-color: #434B5C;\n",
              "      box-shadow: 0px 1px 3px 1px rgba(0, 0, 0, 0.15);\n",
              "      filter: drop-shadow(0px 1px 2px rgba(0, 0, 0, 0.3));\n",
              "      fill: #FFFFFF;\n",
              "    }\n",
              "  </style>\n",
              "\n",
              "    <script>\n",
              "      const buttonEl =\n",
              "        document.querySelector('#df-e347ce13-7820-4fdc-a7d9-3755a83a0e80 button.colab-df-convert');\n",
              "      buttonEl.style.display =\n",
              "        google.colab.kernel.accessAllowed ? 'block' : 'none';\n",
              "\n",
              "      async function convertToInteractive(key) {\n",
              "        const element = document.querySelector('#df-e347ce13-7820-4fdc-a7d9-3755a83a0e80');\n",
              "        const dataTable =\n",
              "          await google.colab.kernel.invokeFunction('convertToInteractive',\n",
              "                                                    [key], {});\n",
              "        if (!dataTable) return;\n",
              "\n",
              "        const docLinkHtml = 'Like what you see? Visit the ' +\n",
              "          '<a target=\"_blank\" href=https://colab.research.google.com/notebooks/data_table.ipynb>data table notebook</a>'\n",
              "          + ' to learn more about interactive tables.';\n",
              "        element.innerHTML = '';\n",
              "        dataTable['output_type'] = 'display_data';\n",
              "        await google.colab.output.renderOutput(dataTable, element);\n",
              "        const docLink = document.createElement('div');\n",
              "        docLink.innerHTML = docLinkHtml;\n",
              "        element.appendChild(docLink);\n",
              "      }\n",
              "    </script>\n",
              "  </div>\n",
              "\n",
              "\n",
              "<div id=\"df-80551a59-dcae-47c0-9134-8ca3cd2ddf5e\">\n",
              "  <button class=\"colab-df-quickchart\" onclick=\"quickchart('df-80551a59-dcae-47c0-9134-8ca3cd2ddf5e')\"\n",
              "            title=\"Suggest charts\"\n",
              "            style=\"display:none;\">\n",
              "\n",
              "<svg xmlns=\"http://www.w3.org/2000/svg\" height=\"24px\"viewBox=\"0 0 24 24\"\n",
              "     width=\"24px\">\n",
              "    <g>\n",
              "        <path d=\"M19 3H5c-1.1 0-2 .9-2 2v14c0 1.1.9 2 2 2h14c1.1 0 2-.9 2-2V5c0-1.1-.9-2-2-2zM9 17H7v-7h2v7zm4 0h-2V7h2v10zm4 0h-2v-4h2v4z\"/>\n",
              "    </g>\n",
              "</svg>\n",
              "  </button>\n",
              "\n",
              "<style>\n",
              "  .colab-df-quickchart {\n",
              "      --bg-color: #E8F0FE;\n",
              "      --fill-color: #1967D2;\n",
              "      --hover-bg-color: #E2EBFA;\n",
              "      --hover-fill-color: #174EA6;\n",
              "      --disabled-fill-color: #AAA;\n",
              "      --disabled-bg-color: #DDD;\n",
              "  }\n",
              "\n",
              "  [theme=dark] .colab-df-quickchart {\n",
              "      --bg-color: #3B4455;\n",
              "      --fill-color: #D2E3FC;\n",
              "      --hover-bg-color: #434B5C;\n",
              "      --hover-fill-color: #FFFFFF;\n",
              "      --disabled-bg-color: #3B4455;\n",
              "      --disabled-fill-color: #666;\n",
              "  }\n",
              "\n",
              "  .colab-df-quickchart {\n",
              "    background-color: var(--bg-color);\n",
              "    border: none;\n",
              "    border-radius: 50%;\n",
              "    cursor: pointer;\n",
              "    display: none;\n",
              "    fill: var(--fill-color);\n",
              "    height: 32px;\n",
              "    padding: 0;\n",
              "    width: 32px;\n",
              "  }\n",
              "\n",
              "  .colab-df-quickchart:hover {\n",
              "    background-color: var(--hover-bg-color);\n",
              "    box-shadow: 0 1px 2px rgba(60, 64, 67, 0.3), 0 1px 3px 1px rgba(60, 64, 67, 0.15);\n",
              "    fill: var(--button-hover-fill-color);\n",
              "  }\n",
              "\n",
              "  .colab-df-quickchart-complete:disabled,\n",
              "  .colab-df-quickchart-complete:disabled:hover {\n",
              "    background-color: var(--disabled-bg-color);\n",
              "    fill: var(--disabled-fill-color);\n",
              "    box-shadow: none;\n",
              "  }\n",
              "\n",
              "  .colab-df-spinner {\n",
              "    border: 2px solid var(--fill-color);\n",
              "    border-color: transparent;\n",
              "    border-bottom-color: var(--fill-color);\n",
              "    animation:\n",
              "      spin 1s steps(1) infinite;\n",
              "  }\n",
              "\n",
              "  @keyframes spin {\n",
              "    0% {\n",
              "      border-color: transparent;\n",
              "      border-bottom-color: var(--fill-color);\n",
              "      border-left-color: var(--fill-color);\n",
              "    }\n",
              "    20% {\n",
              "      border-color: transparent;\n",
              "      border-left-color: var(--fill-color);\n",
              "      border-top-color: var(--fill-color);\n",
              "    }\n",
              "    30% {\n",
              "      border-color: transparent;\n",
              "      border-left-color: var(--fill-color);\n",
              "      border-top-color: var(--fill-color);\n",
              "      border-right-color: var(--fill-color);\n",
              "    }\n",
              "    40% {\n",
              "      border-color: transparent;\n",
              "      border-right-color: var(--fill-color);\n",
              "      border-top-color: var(--fill-color);\n",
              "    }\n",
              "    60% {\n",
              "      border-color: transparent;\n",
              "      border-right-color: var(--fill-color);\n",
              "    }\n",
              "    80% {\n",
              "      border-color: transparent;\n",
              "      border-right-color: var(--fill-color);\n",
              "      border-bottom-color: var(--fill-color);\n",
              "    }\n",
              "    90% {\n",
              "      border-color: transparent;\n",
              "      border-bottom-color: var(--fill-color);\n",
              "    }\n",
              "  }\n",
              "</style>\n",
              "\n",
              "  <script>\n",
              "    async function quickchart(key) {\n",
              "      const quickchartButtonEl =\n",
              "        document.querySelector('#' + key + ' button');\n",
              "      quickchartButtonEl.disabled = true;  // To prevent multiple clicks.\n",
              "      quickchartButtonEl.classList.add('colab-df-spinner');\n",
              "      try {\n",
              "        const charts = await google.colab.kernel.invokeFunction(\n",
              "            'suggestCharts', [key], {});\n",
              "      } catch (error) {\n",
              "        console.error('Error during call to suggestCharts:', error);\n",
              "      }\n",
              "      quickchartButtonEl.classList.remove('colab-df-spinner');\n",
              "      quickchartButtonEl.classList.add('colab-df-quickchart-complete');\n",
              "    }\n",
              "    (() => {\n",
              "      let quickchartButtonEl =\n",
              "        document.querySelector('#df-80551a59-dcae-47c0-9134-8ca3cd2ddf5e button');\n",
              "      quickchartButtonEl.style.display =\n",
              "        google.colab.kernel.accessAllowed ? 'block' : 'none';\n",
              "    })();\n",
              "  </script>\n",
              "</div>\n",
              "    </div>\n",
              "  </div>\n"
            ],
            "application/vnd.google.colaboratory.intrinsic+json": {
              "type": "dataframe",
              "variable_name": "df_tuits_raw",
              "summary": "{\n  \"name\": \"df_tuits_raw\",\n  \"rows\": 100000,\n  \"fields\": [\n    {\n      \"column\": \"Polaridad\",\n      \"properties\": {\n        \"dtype\": \"number\",\n        \"std\": 0,\n        \"min\": 0,\n        \"max\": 1,\n        \"num_unique_values\": 2,\n        \"samples\": [\n          1,\n          0\n        ],\n        \"semantic_type\": \"\",\n        \"description\": \"\"\n      }\n    },\n    {\n      \"column\": \"Id_tuit\",\n      \"properties\": {\n        \"dtype\": \"number\",\n        \"std\": 180407683,\n        \"min\": 1467810672,\n        \"max\": 1960186607,\n        \"num_unique_values\": 100000,\n        \"samples\": [\n          1883220544,\n          1932669185\n        ],\n        \"semantic_type\": \"\",\n        \"description\": \"\"\n      }\n    },\n    {\n      \"column\": \"Fecha\",\n      \"properties\": {\n        \"dtype\": \"object\",\n        \"num_unique_values\": 59568,\n        \"samples\": [\n          \"Sun Apr 19 09:55:24 PDT 2009\",\n          \"Fri May 22 07:11:53 PDT 2009\"\n        ],\n        \"semantic_type\": \"\",\n        \"description\": \"\"\n      }\n    },\n    {\n      \"column\": \"Query\",\n      \"properties\": {\n        \"dtype\": \"category\",\n        \"num_unique_values\": 1,\n        \"samples\": [\n          \"NO_QUERY\"\n        ],\n        \"semantic_type\": \"\",\n        \"description\": \"\"\n      }\n    },\n    {\n      \"column\": \"Usuario\",\n      \"properties\": {\n        \"dtype\": \"string\",\n        \"num_unique_values\": 76724,\n        \"samples\": [\n          \"Emily_Davey\"\n        ],\n        \"semantic_type\": \"\",\n        \"description\": \"\"\n      }\n    },\n    {\n      \"column\": \"Tuit\",\n      \"properties\": {\n        \"dtype\": \"string\",\n        \"num_unique_values\": 99274,\n        \"samples\": [\n          \"@exotkprncss that's the price of love i guess lol, sounds like a nice guy, u're lucky \"\n        ],\n        \"semantic_type\": \"\",\n        \"description\": \"\"\n      }\n    }\n  ]\n}"
            }
          },
          "metadata": {},
          "execution_count": 8
        }
      ],
      "source": [
        "# Cargar en un dataframe desde la URL\n",
        "df_tuits_raw = pd.read_csv(data_file_url, delimiter=';')\n",
        "\n",
        "df_tuits_raw.head(20)\n"
      ]
    },
    {
      "cell_type": "markdown",
      "metadata": {
        "id": "cJFrYdZXlVx1"
      },
      "source": [
        "Definimos una funcion que aplica los saneamientos de las cadenas de texto establecidos en el enunciado.\n"
      ]
    },
    {
      "cell_type": "code",
      "execution_count": 9,
      "metadata": {
        "colab": {
          "base_uri": "https://localhost:8080/"
        },
        "id": "tJi21m7_lWOR",
        "outputId": "77ccbccf-eb5c-4f1a-f7fe-71f966757d67"
      },
      "outputs": [
        {
          "output_type": "execute_result",
          "data": {
            "text/plain": [
              "(100000, 6)"
            ]
          },
          "metadata": {},
          "execution_count": 9
        }
      ],
      "source": [
        "df_tuits_raw.shape"
      ]
    },
    {
      "cell_type": "code",
      "execution_count": 10,
      "metadata": {
        "id": "W9zjR3XriTre"
      },
      "outputs": [],
      "source": [
        "\n",
        "def preprocesamiento(mensaje):\n",
        "  # todo a minusculas\n",
        "  mensaje = mensaje.lower()\n",
        "  # eliminar URLS. Re personalizada a partir de https://regexlib.com/REDetails.aspx?regexp_id=3001\n",
        "  urls_re = r'((http(s)?://)|(www\\.))[a-zA-Z0-9\\-\\.]+\\.[a-zA-Z]{2,3}(:[a-zA-Z0-9]*)?/?([a-zA-Z0-9\\-\\._\\?\\,\\'/\\\\\\+&amp;%\\$#\\=~])*'\n",
        "  mensaje = re.sub(urls_re, '', mensaje)\n",
        "\n",
        "  # eliminar emoticonos: están expresados como una palabra (o dos) entre dos asteriscos\n",
        "  emoti_re = r'\\*\\w+(\\s\\w+)?\\*'\n",
        "  mensaje = re.sub(emoti_re, '', mensaje)\n",
        "\n",
        "  # Eliminar caracteres especiales y signos de puntuacion\n",
        "  mensaje = re.sub(r'[^a-z0-9\\s]', '', mensaje)\n",
        "\n",
        "  # Lematización con spacy excluyendo los stopwords\n",
        "  doc = nlp(mensaje)\n",
        "  lemmatized_words = [word.lemma_ for word in doc if not word.is_space | word.is_stop]\n",
        "\n",
        "  mensaje_limpio = ' '.join(lemmatized_words)\n",
        "  return mensaje_limpio\n"
      ]
    },
    {
      "cell_type": "markdown",
      "metadata": {
        "id": "APWdAA_DFTYF"
      },
      "source": [
        "Para nuestra actividad nos interesan principalmente los campos Polaridad (0 - Negativo, 1 - Positivo) y Tuit (texto del mensaje) procesado.\n",
        "\n",
        "Generamos un nuevo DataFrame con los tuits procesados, y la Polaridad."
      ]
    },
    {
      "cell_type": "code",
      "execution_count": 11,
      "metadata": {
        "colab": {
          "base_uri": "https://localhost:8080/",
          "height": 473,
          "referenced_widgets": [
            "68a01625d67a4a4db6eb83837174d557",
            "0f8f4122e56142b99243cc77fdc800a0",
            "8525b6d936854c6f9b620015edc9cab7",
            "d014744fcc45411daab1d1b3dbae2806",
            "73d24334d8424bafa1b6be846f91c72b",
            "fc19be907d224fe087cca6aae4007f85",
            "ff643fd244d948e0a2d56280e70ad04e",
            "4d0fb5ff6f7a4728afda2dad66d203d2",
            "b3a9d40bc6c04a679fab17b6decf724b",
            "5042289a69654d8786b25d11438ed431",
            "964de4d2a5624ca9bee831cf5703a442"
          ]
        },
        "id": "ffHdJP3OFA9J",
        "outputId": "0fe7daf0-37b0-45d7-8f34-e0547faa8488"
      },
      "outputs": [
        {
          "output_type": "stream",
          "name": "stdout",
          "text": [
            "['Polaridad', 'Id_tuit', 'Fecha', 'Query', 'Usuario', 'Tuit']\n"
          ]
        },
        {
          "output_type": "display_data",
          "data": {
            "text/plain": [
              "Pandas Apply:   0%|          | 0/100000 [00:00<?, ?it/s]"
            ],
            "application/vnd.jupyter.widget-view+json": {
              "version_major": 2,
              "version_minor": 0,
              "model_id": "68a01625d67a4a4db6eb83837174d557"
            }
          },
          "metadata": {}
        },
        {
          "output_type": "execute_result",
          "data": {
            "text/plain": [
              "       Polaridad                                               Tuit\n",
              "0              0  upset not update facebook texte cry result sch...\n",
              "1              0  kenichan dive time ball manage save 50 rest bound\n",
              "2              0                          body feel itchy like fire\n",
              "3              0                   nationwideclass behave m mad not\n",
              "4              0                                      kwesidei crew\n",
              "...          ...                                                ...\n",
              "99995          1                            grandma make dinenr mum\n",
              "99996          1         midmorne snack time bowl cheese noodle yum\n",
              "99997          1  shadela like terminiator movie come like 3 word d\n",
              "99998          1                 destinyhope92 m great thaanks wbuu\n",
              "99999          1                          not wait til date weekend\n",
              "\n",
              "[100000 rows x 2 columns]"
            ],
            "text/html": [
              "\n",
              "  <div id=\"df-51f4dc2a-94ac-4ac6-87ce-7926bccd27b6\" class=\"colab-df-container\">\n",
              "    <div>\n",
              "<style scoped>\n",
              "    .dataframe tbody tr th:only-of-type {\n",
              "        vertical-align: middle;\n",
              "    }\n",
              "\n",
              "    .dataframe tbody tr th {\n",
              "        vertical-align: top;\n",
              "    }\n",
              "\n",
              "    .dataframe thead th {\n",
              "        text-align: right;\n",
              "    }\n",
              "</style>\n",
              "<table border=\"1\" class=\"dataframe\">\n",
              "  <thead>\n",
              "    <tr style=\"text-align: right;\">\n",
              "      <th></th>\n",
              "      <th>Polaridad</th>\n",
              "      <th>Tuit</th>\n",
              "    </tr>\n",
              "  </thead>\n",
              "  <tbody>\n",
              "    <tr>\n",
              "      <th>0</th>\n",
              "      <td>0</td>\n",
              "      <td>upset not update facebook texte cry result sch...</td>\n",
              "    </tr>\n",
              "    <tr>\n",
              "      <th>1</th>\n",
              "      <td>0</td>\n",
              "      <td>kenichan dive time ball manage save 50 rest bound</td>\n",
              "    </tr>\n",
              "    <tr>\n",
              "      <th>2</th>\n",
              "      <td>0</td>\n",
              "      <td>body feel itchy like fire</td>\n",
              "    </tr>\n",
              "    <tr>\n",
              "      <th>3</th>\n",
              "      <td>0</td>\n",
              "      <td>nationwideclass behave m mad not</td>\n",
              "    </tr>\n",
              "    <tr>\n",
              "      <th>4</th>\n",
              "      <td>0</td>\n",
              "      <td>kwesidei crew</td>\n",
              "    </tr>\n",
              "    <tr>\n",
              "      <th>...</th>\n",
              "      <td>...</td>\n",
              "      <td>...</td>\n",
              "    </tr>\n",
              "    <tr>\n",
              "      <th>99995</th>\n",
              "      <td>1</td>\n",
              "      <td>grandma make dinenr mum</td>\n",
              "    </tr>\n",
              "    <tr>\n",
              "      <th>99996</th>\n",
              "      <td>1</td>\n",
              "      <td>midmorne snack time bowl cheese noodle yum</td>\n",
              "    </tr>\n",
              "    <tr>\n",
              "      <th>99997</th>\n",
              "      <td>1</td>\n",
              "      <td>shadela like terminiator movie come like 3 word d</td>\n",
              "    </tr>\n",
              "    <tr>\n",
              "      <th>99998</th>\n",
              "      <td>1</td>\n",
              "      <td>destinyhope92 m great thaanks wbuu</td>\n",
              "    </tr>\n",
              "    <tr>\n",
              "      <th>99999</th>\n",
              "      <td>1</td>\n",
              "      <td>not wait til date weekend</td>\n",
              "    </tr>\n",
              "  </tbody>\n",
              "</table>\n",
              "<p>100000 rows × 2 columns</p>\n",
              "</div>\n",
              "    <div class=\"colab-df-buttons\">\n",
              "\n",
              "  <div class=\"colab-df-container\">\n",
              "    <button class=\"colab-df-convert\" onclick=\"convertToInteractive('df-51f4dc2a-94ac-4ac6-87ce-7926bccd27b6')\"\n",
              "            title=\"Convert this dataframe to an interactive table.\"\n",
              "            style=\"display:none;\">\n",
              "\n",
              "  <svg xmlns=\"http://www.w3.org/2000/svg\" height=\"24px\" viewBox=\"0 -960 960 960\">\n",
              "    <path d=\"M120-120v-720h720v720H120Zm60-500h600v-160H180v160Zm220 220h160v-160H400v160Zm0 220h160v-160H400v160ZM180-400h160v-160H180v160Zm440 0h160v-160H620v160ZM180-180h160v-160H180v160Zm440 0h160v-160H620v160Z\"/>\n",
              "  </svg>\n",
              "    </button>\n",
              "\n",
              "  <style>\n",
              "    .colab-df-container {\n",
              "      display:flex;\n",
              "      gap: 12px;\n",
              "    }\n",
              "\n",
              "    .colab-df-convert {\n",
              "      background-color: #E8F0FE;\n",
              "      border: none;\n",
              "      border-radius: 50%;\n",
              "      cursor: pointer;\n",
              "      display: none;\n",
              "      fill: #1967D2;\n",
              "      height: 32px;\n",
              "      padding: 0 0 0 0;\n",
              "      width: 32px;\n",
              "    }\n",
              "\n",
              "    .colab-df-convert:hover {\n",
              "      background-color: #E2EBFA;\n",
              "      box-shadow: 0px 1px 2px rgba(60, 64, 67, 0.3), 0px 1px 3px 1px rgba(60, 64, 67, 0.15);\n",
              "      fill: #174EA6;\n",
              "    }\n",
              "\n",
              "    .colab-df-buttons div {\n",
              "      margin-bottom: 4px;\n",
              "    }\n",
              "\n",
              "    [theme=dark] .colab-df-convert {\n",
              "      background-color: #3B4455;\n",
              "      fill: #D2E3FC;\n",
              "    }\n",
              "\n",
              "    [theme=dark] .colab-df-convert:hover {\n",
              "      background-color: #434B5C;\n",
              "      box-shadow: 0px 1px 3px 1px rgba(0, 0, 0, 0.15);\n",
              "      filter: drop-shadow(0px 1px 2px rgba(0, 0, 0, 0.3));\n",
              "      fill: #FFFFFF;\n",
              "    }\n",
              "  </style>\n",
              "\n",
              "    <script>\n",
              "      const buttonEl =\n",
              "        document.querySelector('#df-51f4dc2a-94ac-4ac6-87ce-7926bccd27b6 button.colab-df-convert');\n",
              "      buttonEl.style.display =\n",
              "        google.colab.kernel.accessAllowed ? 'block' : 'none';\n",
              "\n",
              "      async function convertToInteractive(key) {\n",
              "        const element = document.querySelector('#df-51f4dc2a-94ac-4ac6-87ce-7926bccd27b6');\n",
              "        const dataTable =\n",
              "          await google.colab.kernel.invokeFunction('convertToInteractive',\n",
              "                                                    [key], {});\n",
              "        if (!dataTable) return;\n",
              "\n",
              "        const docLinkHtml = 'Like what you see? Visit the ' +\n",
              "          '<a target=\"_blank\" href=https://colab.research.google.com/notebooks/data_table.ipynb>data table notebook</a>'\n",
              "          + ' to learn more about interactive tables.';\n",
              "        element.innerHTML = '';\n",
              "        dataTable['output_type'] = 'display_data';\n",
              "        await google.colab.output.renderOutput(dataTable, element);\n",
              "        const docLink = document.createElement('div');\n",
              "        docLink.innerHTML = docLinkHtml;\n",
              "        element.appendChild(docLink);\n",
              "      }\n",
              "    </script>\n",
              "  </div>\n",
              "\n",
              "\n",
              "<div id=\"df-7cecf177-5b1b-4be5-8117-4a531bc2af36\">\n",
              "  <button class=\"colab-df-quickchart\" onclick=\"quickchart('df-7cecf177-5b1b-4be5-8117-4a531bc2af36')\"\n",
              "            title=\"Suggest charts\"\n",
              "            style=\"display:none;\">\n",
              "\n",
              "<svg xmlns=\"http://www.w3.org/2000/svg\" height=\"24px\"viewBox=\"0 0 24 24\"\n",
              "     width=\"24px\">\n",
              "    <g>\n",
              "        <path d=\"M19 3H5c-1.1 0-2 .9-2 2v14c0 1.1.9 2 2 2h14c1.1 0 2-.9 2-2V5c0-1.1-.9-2-2-2zM9 17H7v-7h2v7zm4 0h-2V7h2v10zm4 0h-2v-4h2v4z\"/>\n",
              "    </g>\n",
              "</svg>\n",
              "  </button>\n",
              "\n",
              "<style>\n",
              "  .colab-df-quickchart {\n",
              "      --bg-color: #E8F0FE;\n",
              "      --fill-color: #1967D2;\n",
              "      --hover-bg-color: #E2EBFA;\n",
              "      --hover-fill-color: #174EA6;\n",
              "      --disabled-fill-color: #AAA;\n",
              "      --disabled-bg-color: #DDD;\n",
              "  }\n",
              "\n",
              "  [theme=dark] .colab-df-quickchart {\n",
              "      --bg-color: #3B4455;\n",
              "      --fill-color: #D2E3FC;\n",
              "      --hover-bg-color: #434B5C;\n",
              "      --hover-fill-color: #FFFFFF;\n",
              "      --disabled-bg-color: #3B4455;\n",
              "      --disabled-fill-color: #666;\n",
              "  }\n",
              "\n",
              "  .colab-df-quickchart {\n",
              "    background-color: var(--bg-color);\n",
              "    border: none;\n",
              "    border-radius: 50%;\n",
              "    cursor: pointer;\n",
              "    display: none;\n",
              "    fill: var(--fill-color);\n",
              "    height: 32px;\n",
              "    padding: 0;\n",
              "    width: 32px;\n",
              "  }\n",
              "\n",
              "  .colab-df-quickchart:hover {\n",
              "    background-color: var(--hover-bg-color);\n",
              "    box-shadow: 0 1px 2px rgba(60, 64, 67, 0.3), 0 1px 3px 1px rgba(60, 64, 67, 0.15);\n",
              "    fill: var(--button-hover-fill-color);\n",
              "  }\n",
              "\n",
              "  .colab-df-quickchart-complete:disabled,\n",
              "  .colab-df-quickchart-complete:disabled:hover {\n",
              "    background-color: var(--disabled-bg-color);\n",
              "    fill: var(--disabled-fill-color);\n",
              "    box-shadow: none;\n",
              "  }\n",
              "\n",
              "  .colab-df-spinner {\n",
              "    border: 2px solid var(--fill-color);\n",
              "    border-color: transparent;\n",
              "    border-bottom-color: var(--fill-color);\n",
              "    animation:\n",
              "      spin 1s steps(1) infinite;\n",
              "  }\n",
              "\n",
              "  @keyframes spin {\n",
              "    0% {\n",
              "      border-color: transparent;\n",
              "      border-bottom-color: var(--fill-color);\n",
              "      border-left-color: var(--fill-color);\n",
              "    }\n",
              "    20% {\n",
              "      border-color: transparent;\n",
              "      border-left-color: var(--fill-color);\n",
              "      border-top-color: var(--fill-color);\n",
              "    }\n",
              "    30% {\n",
              "      border-color: transparent;\n",
              "      border-left-color: var(--fill-color);\n",
              "      border-top-color: var(--fill-color);\n",
              "      border-right-color: var(--fill-color);\n",
              "    }\n",
              "    40% {\n",
              "      border-color: transparent;\n",
              "      border-right-color: var(--fill-color);\n",
              "      border-top-color: var(--fill-color);\n",
              "    }\n",
              "    60% {\n",
              "      border-color: transparent;\n",
              "      border-right-color: var(--fill-color);\n",
              "    }\n",
              "    80% {\n",
              "      border-color: transparent;\n",
              "      border-right-color: var(--fill-color);\n",
              "      border-bottom-color: var(--fill-color);\n",
              "    }\n",
              "    90% {\n",
              "      border-color: transparent;\n",
              "      border-bottom-color: var(--fill-color);\n",
              "    }\n",
              "  }\n",
              "</style>\n",
              "\n",
              "  <script>\n",
              "    async function quickchart(key) {\n",
              "      const quickchartButtonEl =\n",
              "        document.querySelector('#' + key + ' button');\n",
              "      quickchartButtonEl.disabled = true;  // To prevent multiple clicks.\n",
              "      quickchartButtonEl.classList.add('colab-df-spinner');\n",
              "      try {\n",
              "        const charts = await google.colab.kernel.invokeFunction(\n",
              "            'suggestCharts', [key], {});\n",
              "      } catch (error) {\n",
              "        console.error('Error during call to suggestCharts:', error);\n",
              "      }\n",
              "      quickchartButtonEl.classList.remove('colab-df-spinner');\n",
              "      quickchartButtonEl.classList.add('colab-df-quickchart-complete');\n",
              "    }\n",
              "    (() => {\n",
              "      let quickchartButtonEl =\n",
              "        document.querySelector('#df-7cecf177-5b1b-4be5-8117-4a531bc2af36 button');\n",
              "      quickchartButtonEl.style.display =\n",
              "        google.colab.kernel.accessAllowed ? 'block' : 'none';\n",
              "    })();\n",
              "  </script>\n",
              "</div>\n",
              "    </div>\n",
              "  </div>\n"
            ],
            "application/vnd.google.colaboratory.intrinsic+json": {
              "type": "dataframe",
              "variable_name": "df_tuits_procesados",
              "summary": "{\n  \"name\": \"df_tuits_procesados\",\n  \"rows\": 100000,\n  \"fields\": [\n    {\n      \"column\": \"Polaridad\",\n      \"properties\": {\n        \"dtype\": \"number\",\n        \"std\": 0,\n        \"min\": 0,\n        \"max\": 1,\n        \"num_unique_values\": 2,\n        \"samples\": [\n          1,\n          0\n        ],\n        \"semantic_type\": \"\",\n        \"description\": \"\"\n      }\n    },\n    {\n      \"column\": \"Tuit\",\n      \"properties\": {\n        \"dtype\": \"string\",\n        \"num_unique_values\": 97655,\n        \"samples\": [\n          \"trentreznor fan bad rep kinda funny\",\n          \"glamorousvandal bad cold weather go warm cold winter soon feel\"\n        ],\n        \"semantic_type\": \"\",\n        \"description\": \"\"\n      }\n    }\n  ]\n}"
            }
          },
          "metadata": {},
          "execution_count": 11
        }
      ],
      "source": [
        "print(df_tuits_raw.columns.tolist())\n",
        "df_tuits_procesados = df_tuits_raw[['Polaridad', 'Tuit']].copy()\n",
        "# este paso tarda alrededor de 13 minutos\n",
        "# La librería swifter trata de optimiiar la ejecución de funciones de tipo lambda\n",
        "# en dataframes de pandas.\n",
        "df_tuits_procesados['Tuit'] = df_tuits_procesados['Tuit'].swifter.apply(preprocesamiento)\n",
        "\n",
        "df_tuits_procesados"
      ]
    },
    {
      "cell_type": "markdown",
      "metadata": {
        "id": "hA11jW6xOMWW"
      },
      "source": [
        "Para poder entrenar la red neuronal, necesitamos transformar en tokens numéricos las palabras, a través de la función `Tokenizer`.\n",
        "Además, para equilibrar las secuencias de tokens y que todas tengan una longitud equivalente, aplicamos la función `pad_sequences` sobre los tokens obtenidos.\n"
      ]
    },
    {
      "cell_type": "code",
      "execution_count": 12,
      "metadata": {
        "colab": {
          "base_uri": "https://localhost:8080/"
        },
        "id": "Ox4_yfqzr_JW",
        "outputId": "8571f7d4-9a74-4c6f-a4e3-27273e6e6566"
      },
      "outputs": [
        {
          "output_type": "stream",
          "name": "stdout",
          "text": [
            "29\n"
          ]
        }
      ],
      "source": [
        "# Definir los parámetros para la tokenización y la secuencia\n",
        "vocab_size = 10000\n",
        "# max_length = 100\n",
        "trunc_type = 'post'\n",
        "padding_type = 'post'\n",
        "\n",
        "# Tokenizar y convertir los tweets a secuencias\n",
        "tokenizer = Tokenizer(num_words=vocab_size, oov_token=\"<OOV>\")\n",
        "tokenizer.fit_on_texts(df_tuits_procesados['Tuit'])\n",
        "sequences = tokenizer.texts_to_sequences(df_tuits_procesados['Tuit'])\n",
        "\n",
        "# calculamos el tamaño máximo de las secuencias, para el padding\n",
        "max_sequence_length = max(len(seq) for seq in sequences)\n",
        "print(max_sequence_length)\n"
      ]
    },
    {
      "cell_type": "code",
      "execution_count": 13,
      "metadata": {
        "id": "k2ylZOOby107"
      },
      "outputs": [],
      "source": [
        "# Ajustamos el tamaño de todas las secuencias al tamaño máximo encontrado, más uno\n",
        "padded_sequences = pad_sequences(sequences, maxlen=max_sequence_length+1, padding=padding_type, truncating=trunc_type)"
      ]
    },
    {
      "cell_type": "markdown",
      "metadata": {
        "id": "C0Aup46OLxWF"
      },
      "source": [
        "## División del conjunto de datos\n",
        "\n"
      ]
    },
    {
      "cell_type": "markdown",
      "metadata": {
        "id": "TSHnGHU8qsth"
      },
      "source": [
        "Separación del conjunto de datos en tres grupos: uno de entrenamiento, uno de validación y otro de testeo.\n",
        "\n",
        "La proporción será 60% - 20% - 20%."
      ]
    },
    {
      "cell_type": "code",
      "execution_count": 15,
      "metadata": {
        "id": "fNexbAcYL85M"
      },
      "outputs": [],
      "source": [
        "# Selección de características (X) y etiquetas (y)\n",
        "X = padded_sequences\n",
        "y = df_tuits_procesados['Polaridad']\n",
        "\n",
        "# Separamos el grupo de entrenamiento, del resto (validación + prueba)\n",
        "X_train, X_resto, y_train, y_resto = train_test_split(X, y, test_size=0.4, random_state=42)\n",
        "\n",
        "# Separar resto en validación y prueba\n",
        "X_val, X_test, y_val, y_test = train_test_split(X_resto, y_resto, test_size=0.5, random_state=42)\n",
        "\n"
      ]
    },
    {
      "cell_type": "code",
      "execution_count": 16,
      "metadata": {
        "colab": {
          "base_uri": "https://localhost:8080/"
        },
        "id": "USpOm8e2TaCy",
        "outputId": "913bbc5f-6007-4584-cf9f-0ea8fd929c42"
      },
      "outputs": [
        {
          "output_type": "stream",
          "name": "stdout",
          "text": [
            "Entrenamiento (60000, 30) (60000,)\n",
            "Validacion (20000, 30) (20000,)\n",
            "Test (20000, 30) (20000,)\n"
          ]
        }
      ],
      "source": [
        "print(\"Entrenamiento\", X_train.shape, y_train.shape)\n",
        "print(\"Validacion\", X_val.shape, y_val.shape)\n",
        "print(\"Test\", X_test.shape, y_test.shape)\n"
      ]
    },
    {
      "cell_type": "markdown",
      "metadata": {
        "id": "-aTX4cFw1uu8"
      },
      "source": [
        "## Definición y entrenamiento del modelo de Red Neuronal"
      ]
    },
    {
      "cell_type": "code",
      "execution_count": 17,
      "metadata": {
        "id": "aqVL-355DOnZ"
      },
      "outputs": [],
      "source": [
        "# Parametros de sequencia (reutiliza algunos definidos para la tokenizacion)\n",
        "embedding_dim = 100\n",
        "max_length = max_sequence_length + 1 # el tamaño al que hemos ajustado las series\n",
        "\n",
        "# Crear el modelo de red neuronal\n",
        "model = Sequential()\n",
        "model.add(Embedding(input_dim=vocab_size, output_dim=embedding_dim, input_length=max_length)) # Añadir capa de embedding\n",
        "model.add(LSTM(128, return_sequences=True)) # Añadir capas LSTM\n",
        "model.add(LSTM(64))\n",
        "model.add(Dense(1, activation='sigmoid'))\n",
        "\n",
        "# Adam como algoritmo de Optimizacion. usamos un learning_rate algo alto para mejorar tiempos\n",
        "optimizador = Adam(learning_rate=0.01)\n",
        "\n",
        "model.compile(optimizer= optimizador, loss='binary_crossentropy', metrics=['accuracy'])"
      ]
    },
    {
      "cell_type": "markdown",
      "metadata": {
        "id": "NBsHwp_lLr44"
      },
      "source": [
        "Al entrenar el modelo, le pasamos un callback para la reduccion del learning_rate. Si despues de un numero determinado de rondas (epoch) no se\n",
        "aprecia mejora en la metrica indicada, reduce el learning_rate usando el factor\n",
        "hasta un minimo.\n",
        "En nuestro caso: si despues de 6 rondas no hay mejoras en la perdida, disminuye el learnin_rate hasta un minimo de 0,0001\n"
      ]
    },
    {
      "cell_type": "code",
      "execution_count": 18,
      "metadata": {
        "id": "J3lPmlx4bvU5"
      },
      "outputs": [],
      "source": [
        "# Reduccion del learning_rate, para mejorar el ajuste:\n",
        "reductor_lr = ReduceLROnPlateau('val_loss', factor=0.1, patience=6, min_lr=0.0001)\n"
      ]
    },
    {
      "cell_type": "markdown",
      "metadata": {
        "id": "ggpWY5ebMP7m"
      },
      "source": [
        "Entenamiento con validación del modelo."
      ]
    },
    {
      "cell_type": "code",
      "execution_count": 19,
      "metadata": {
        "colab": {
          "base_uri": "https://localhost:8080/"
        },
        "id": "0RHn7W7iMTV7",
        "outputId": "becf3e82-b272-476c-c09d-dce8529f67e0"
      },
      "outputs": [
        {
          "output_type": "stream",
          "name": "stdout",
          "text": [
            "Epoch 1/50\n",
            "600/600 [==============================] - 94s 149ms/step - loss: 0.6175 - accuracy: 0.6499 - val_loss: 0.5206 - val_accuracy: 0.7414 - lr: 0.0100\n",
            "Epoch 2/50\n",
            "600/600 [==============================] - 86s 144ms/step - loss: 0.4702 - accuracy: 0.7762 - val_loss: 0.5025 - val_accuracy: 0.7604 - lr: 0.0100\n",
            "Epoch 3/50\n",
            "600/600 [==============================] - 91s 151ms/step - loss: 0.4193 - accuracy: 0.8062 - val_loss: 0.5089 - val_accuracy: 0.7563 - lr: 0.0100\n",
            "Epoch 4/50\n",
            "600/600 [==============================] - 89s 148ms/step - loss: 0.3865 - accuracy: 0.8233 - val_loss: 0.5195 - val_accuracy: 0.7582 - lr: 0.0100\n",
            "Epoch 5/50\n",
            "600/600 [==============================] - 86s 143ms/step - loss: 0.3605 - accuracy: 0.8372 - val_loss: 0.5355 - val_accuracy: 0.7553 - lr: 0.0100\n",
            "Epoch 6/50\n",
            "600/600 [==============================] - 89s 148ms/step - loss: 0.3386 - accuracy: 0.8483 - val_loss: 0.5676 - val_accuracy: 0.7521 - lr: 0.0100\n",
            "Epoch 7/50\n",
            "600/600 [==============================] - 86s 144ms/step - loss: 0.3235 - accuracy: 0.8556 - val_loss: 0.6066 - val_accuracy: 0.7526 - lr: 0.0100\n",
            "Epoch 8/50\n",
            "600/600 [==============================] - 92s 154ms/step - loss: 0.3105 - accuracy: 0.8615 - val_loss: 0.6641 - val_accuracy: 0.7521 - lr: 0.0100\n",
            "Epoch 9/50\n",
            "600/600 [==============================] - 87s 144ms/step - loss: 0.2665 - accuracy: 0.8842 - val_loss: 0.6828 - val_accuracy: 0.7495 - lr: 1.0000e-03\n",
            "Epoch 10/50\n",
            "600/600 [==============================] - 86s 144ms/step - loss: 0.2373 - accuracy: 0.8978 - val_loss: 0.7334 - val_accuracy: 0.7473 - lr: 1.0000e-03\n",
            "Epoch 11/50\n",
            "600/600 [==============================] - 87s 145ms/step - loss: 0.2162 - accuracy: 0.9078 - val_loss: 0.7907 - val_accuracy: 0.7461 - lr: 1.0000e-03\n",
            "Epoch 12/50\n",
            "600/600 [==============================] - 87s 144ms/step - loss: 0.1972 - accuracy: 0.9162 - val_loss: 0.8562 - val_accuracy: 0.7419 - lr: 1.0000e-03\n",
            "Epoch 13/50\n",
            "600/600 [==============================] - 90s 151ms/step - loss: 0.1785 - accuracy: 0.9249 - val_loss: 0.9074 - val_accuracy: 0.7387 - lr: 1.0000e-03\n",
            "Epoch 14/50\n",
            "600/600 [==============================] - 86s 144ms/step - loss: 0.1609 - accuracy: 0.9331 - val_loss: 0.9900 - val_accuracy: 0.7374 - lr: 1.0000e-03\n",
            "Epoch 15/50\n",
            "600/600 [==============================] - 88s 146ms/step - loss: 0.1411 - accuracy: 0.9421 - val_loss: 1.0192 - val_accuracy: 0.7376 - lr: 1.0000e-04\n",
            "Epoch 16/50\n",
            "600/600 [==============================] - 87s 144ms/step - loss: 0.1376 - accuracy: 0.9434 - val_loss: 1.0332 - val_accuracy: 0.7370 - lr: 1.0000e-04\n",
            "Epoch 17/50\n",
            "600/600 [==============================] - 86s 144ms/step - loss: 0.1349 - accuracy: 0.9447 - val_loss: 1.0496 - val_accuracy: 0.7364 - lr: 1.0000e-04\n",
            "Epoch 18/50\n",
            "600/600 [==============================] - 91s 151ms/step - loss: 0.1325 - accuracy: 0.9460 - val_loss: 1.0665 - val_accuracy: 0.7355 - lr: 1.0000e-04\n",
            "Epoch 19/50\n",
            "600/600 [==============================] - 87s 145ms/step - loss: 0.1302 - accuracy: 0.9471 - val_loss: 1.0759 - val_accuracy: 0.7344 - lr: 1.0000e-04\n",
            "Epoch 20/50\n",
            "600/600 [==============================] - 98s 163ms/step - loss: 0.1279 - accuracy: 0.9475 - val_loss: 1.0903 - val_accuracy: 0.7346 - lr: 1.0000e-04\n",
            "Epoch 21/50\n",
            "600/600 [==============================] - 87s 145ms/step - loss: 0.1257 - accuracy: 0.9488 - val_loss: 1.1029 - val_accuracy: 0.7337 - lr: 1.0000e-04\n",
            "Epoch 22/50\n",
            "600/600 [==============================] - 87s 144ms/step - loss: 0.1235 - accuracy: 0.9495 - val_loss: 1.1132 - val_accuracy: 0.7333 - lr: 1.0000e-04\n",
            "Epoch 23/50\n",
            "600/600 [==============================] - 87s 145ms/step - loss: 0.1213 - accuracy: 0.9510 - val_loss: 1.1267 - val_accuracy: 0.7325 - lr: 1.0000e-04\n",
            "Epoch 24/50\n",
            "600/600 [==============================] - 88s 147ms/step - loss: 0.1191 - accuracy: 0.9514 - val_loss: 1.1382 - val_accuracy: 0.7316 - lr: 1.0000e-04\n",
            "Epoch 25/50\n",
            "600/600 [==============================] - 87s 145ms/step - loss: 0.1170 - accuracy: 0.9524 - val_loss: 1.1521 - val_accuracy: 0.7319 - lr: 1.0000e-04\n",
            "Epoch 26/50\n",
            "600/600 [==============================] - 87s 145ms/step - loss: 0.1149 - accuracy: 0.9536 - val_loss: 1.1664 - val_accuracy: 0.7318 - lr: 1.0000e-04\n",
            "Epoch 27/50\n",
            "600/600 [==============================] - 86s 144ms/step - loss: 0.1129 - accuracy: 0.9543 - val_loss: 1.1743 - val_accuracy: 0.7319 - lr: 1.0000e-04\n",
            "Epoch 28/50\n",
            "600/600 [==============================] - 89s 148ms/step - loss: 0.1109 - accuracy: 0.9551 - val_loss: 1.1883 - val_accuracy: 0.7310 - lr: 1.0000e-04\n",
            "Epoch 29/50\n",
            "600/600 [==============================] - 88s 147ms/step - loss: 0.1089 - accuracy: 0.9558 - val_loss: 1.1937 - val_accuracy: 0.7306 - lr: 1.0000e-04\n",
            "Epoch 30/50\n",
            "600/600 [==============================] - 88s 148ms/step - loss: 0.1070 - accuracy: 0.9570 - val_loss: 1.2078 - val_accuracy: 0.7308 - lr: 1.0000e-04\n",
            "Epoch 31/50\n",
            "600/600 [==============================] - 88s 147ms/step - loss: 0.1051 - accuracy: 0.9580 - val_loss: 1.2246 - val_accuracy: 0.7305 - lr: 1.0000e-04\n",
            "Epoch 32/50\n",
            "600/600 [==============================] - 86s 143ms/step - loss: 0.1032 - accuracy: 0.9588 - val_loss: 1.2368 - val_accuracy: 0.7311 - lr: 1.0000e-04\n",
            "Epoch 33/50\n",
            "600/600 [==============================] - 88s 147ms/step - loss: 0.1014 - accuracy: 0.9595 - val_loss: 1.2462 - val_accuracy: 0.7308 - lr: 1.0000e-04\n",
            "Epoch 34/50\n",
            "600/600 [==============================] - 86s 143ms/step - loss: 0.0996 - accuracy: 0.9601 - val_loss: 1.2577 - val_accuracy: 0.7302 - lr: 1.0000e-04\n",
            "Epoch 35/50\n",
            "600/600 [==============================] - 88s 147ms/step - loss: 0.0979 - accuracy: 0.9610 - val_loss: 1.2658 - val_accuracy: 0.7289 - lr: 1.0000e-04\n",
            "Epoch 36/50\n",
            "600/600 [==============================] - 87s 146ms/step - loss: 0.0963 - accuracy: 0.9615 - val_loss: 1.2818 - val_accuracy: 0.7293 - lr: 1.0000e-04\n",
            "Epoch 37/50\n",
            "600/600 [==============================] - 87s 144ms/step - loss: 0.0946 - accuracy: 0.9623 - val_loss: 1.2894 - val_accuracy: 0.7273 - lr: 1.0000e-04\n",
            "Epoch 38/50\n",
            "600/600 [==============================] - 88s 147ms/step - loss: 0.0929 - accuracy: 0.9630 - val_loss: 1.3001 - val_accuracy: 0.7272 - lr: 1.0000e-04\n",
            "Epoch 39/50\n",
            "600/600 [==============================] - 88s 147ms/step - loss: 0.0913 - accuracy: 0.9637 - val_loss: 1.3136 - val_accuracy: 0.7272 - lr: 1.0000e-04\n",
            "Epoch 40/50\n",
            "600/600 [==============================] - 87s 145ms/step - loss: 0.0898 - accuracy: 0.9643 - val_loss: 1.3188 - val_accuracy: 0.7261 - lr: 1.0000e-04\n",
            "Epoch 41/50\n",
            "600/600 [==============================] - 90s 149ms/step - loss: 0.0883 - accuracy: 0.9646 - val_loss: 1.3327 - val_accuracy: 0.7275 - lr: 1.0000e-04\n",
            "Epoch 42/50\n",
            "600/600 [==============================] - 86s 144ms/step - loss: 0.0866 - accuracy: 0.9654 - val_loss: 1.3427 - val_accuracy: 0.7265 - lr: 1.0000e-04\n",
            "Epoch 43/50\n",
            "600/600 [==============================] - 87s 146ms/step - loss: 0.0852 - accuracy: 0.9661 - val_loss: 1.3508 - val_accuracy: 0.7263 - lr: 1.0000e-04\n",
            "Epoch 44/50\n",
            "600/600 [==============================] - 87s 146ms/step - loss: 0.0838 - accuracy: 0.9667 - val_loss: 1.3616 - val_accuracy: 0.7268 - lr: 1.0000e-04\n",
            "Epoch 45/50\n",
            "600/600 [==============================] - 92s 153ms/step - loss: 0.0824 - accuracy: 0.9672 - val_loss: 1.3744 - val_accuracy: 0.7271 - lr: 1.0000e-04\n",
            "Epoch 46/50\n",
            "600/600 [==============================] - 92s 154ms/step - loss: 0.0808 - accuracy: 0.9677 - val_loss: 1.3838 - val_accuracy: 0.7267 - lr: 1.0000e-04\n",
            "Epoch 47/50\n",
            "600/600 [==============================] - 92s 153ms/step - loss: 0.0795 - accuracy: 0.9684 - val_loss: 1.3973 - val_accuracy: 0.7269 - lr: 1.0000e-04\n",
            "Epoch 48/50\n",
            "600/600 [==============================] - 90s 149ms/step - loss: 0.0781 - accuracy: 0.9687 - val_loss: 1.4085 - val_accuracy: 0.7264 - lr: 1.0000e-04\n",
            "Epoch 49/50\n",
            "600/600 [==============================] - 94s 156ms/step - loss: 0.0769 - accuracy: 0.9696 - val_loss: 1.4133 - val_accuracy: 0.7251 - lr: 1.0000e-04\n",
            "Epoch 50/50\n",
            "600/600 [==============================] - 89s 148ms/step - loss: 0.0756 - accuracy: 0.9702 - val_loss: 1.4277 - val_accuracy: 0.7260 - lr: 1.0000e-04\n"
          ]
        }
      ],
      "source": [
        "# Entrenamiento del modelo\n",
        "entreno = model.fit(X_train, y_train, epochs=50, batch_size=100, validation_data=(X_val, y_val), callbacks=[reductor_lr])"
      ]
    },
    {
      "cell_type": "markdown",
      "metadata": {
        "id": "j8P3kV5g0zx5"
      },
      "source": [
        "## Discusión\n",
        "\n",
        "### Función de activación aplicada\n",
        "La función de activación más adecuada para la última capa es sigmoid ya que esta función es apropiada porque produce una probabilidad entre 0 y 1, lo cual es ideal para clasificaciones binarias permitiendo interpretar el resultado como la probabilidad de que el sentimiento sea positivo. La función de pérdida más adecuada para un problema de clasificación binaria es binary_crossentropy ya que esta función de pérdida mide la divergencia entre las distribuciones de probabilidad verdadera y predicha penalizando fuertemente las predicciones incorrectas y es adecuada porque se enfoca en mejorar la precisión de clasificación binaria al minimizar las diferencias entre las etiquetas verdaderas y las predicciones del modelo.\n",
        "\n",
        "La función sigmoid es especialmente útil para la salida de una red neuronal en tareas de clasificación binaria porque convierte la salida en una probabilidad permitiendo una interpretación directa de los resultados. Una salida cercana a 0 indica un sentimiento negativo mientras que una salida cercana a 1 indica un sentimiento positivo. Binary crossentropy es ideal para problemas de clasificación binaria porque cuantifica la diferencia entre las distribuciones de probabilidad predicha y verdadera. Al penalizar más fuertemente las predicciones incorrectas ayuda a mejorar la precisión del modelo en identificar correctamente las clases de sentimiento.\n",
        "\n",
        "### Gráficas de análisis del modelo\n",
        "Gráficos de la evolución de la función de pérdida y las métricas"
      ]
    },
    {
      "cell_type": "code",
      "execution_count": 20,
      "metadata": {
        "colab": {
          "base_uri": "https://localhost:8080/",
          "height": 52
        },
        "id": "JI9hjL6Vb09R",
        "outputId": "01b92c3b-a479-4527-ac56-ac255783d7de"
      },
      "outputs": [
        {
          "output_type": "execute_result",
          "data": {
            "text/plain": [
              "<Figure size 1200x1200 with 0 Axes>"
            ]
          },
          "metadata": {},
          "execution_count": 20
        },
        {
          "output_type": "display_data",
          "data": {
            "text/plain": [
              "<Figure size 1200x1200 with 0 Axes>"
            ]
          },
          "metadata": {}
        }
      ],
      "source": [
        "# configuracion general graficas\n",
        "\n",
        "plt.figure(figsize=(12, 12))"
      ]
    },
    {
      "cell_type": "code",
      "execution_count": 21,
      "metadata": {
        "colab": {
          "base_uri": "https://localhost:8080/",
          "height": 500
        },
        "id": "V3LPj4AKbznD",
        "outputId": "c142c7ad-b21e-44d3-947c-4bb948bf9f47"
      },
      "outputs": [
        {
          "output_type": "display_data",
          "data": {
            "text/plain": [
              "<Figure size 640x480 with 1 Axes>"
            ],
            "image/png": "[encoded data removed]"
          },
          "metadata": {}
        }
      ],
      "source": [
        "# Gráfico de la función de pérdida\n",
        "plt.subplot(1, 1, 1)\n",
        "plt.plot(entreno.history['loss'], label='Pérdida de entrenamiento')\n",
        "plt.plot(entreno.history['val_loss'], label='Pérdida de validación')\n",
        "plt.xlabel('Épocas')\n",
        "plt.ylabel('Pérdida')\n",
        "plt.legend(loc='upper center', bbox_to_anchor=(0.5, -0.05), ncol=1)\n",
        "plt.title('Evolución de la Pérdida')\n",
        "plt.show()\n"
      ]
    },
    {
      "cell_type": "code",
      "execution_count": 22,
      "metadata": {
        "colab": {
          "base_uri": "https://localhost:8080/",
          "height": 517
        },
        "id": "rWlpmXQVcAuh",
        "outputId": "c2659eee-ce97-45b0-c46c-bf1fdae443eb"
      },
      "outputs": [
        {
          "output_type": "execute_result",
          "data": {
            "text/plain": [
              "Text(0.5, 1.0, 'Evolución de la Precisión')"
            ]
          },
          "metadata": {},
          "execution_count": 22
        },
        {
          "output_type": "display_data",
          "data": {
            "text/plain": [
              "<Figure size 640x480 with 1 Axes>"
            ],
            "image/png": "[encoded data removed]"
          },
          "metadata": {}
        }
      ],
      "source": [
        "# Gráfico de la métrica de precisión\n",
        "plt.subplot(1, 1, 1)\n",
        "plt.plot(entreno.history['accuracy'], label='Precisión de entrenamiento')\n",
        "plt.plot(entreno.history['val_accuracy'], label='Precisión de validación')\n",
        "plt.xlabel('Épocas')\n",
        "plt.ylabel('Precisión')\n",
        "plt.legend(loc='upper center', bbox_to_anchor=(0.5, -0.05), ncol=1)\n",
        "plt.title('Evolución de la Precisión')"
      ]
    },
    {
      "cell_type": "markdown",
      "metadata": {
        "id": "L7yu-QTUbXj7"
      },
      "source": []
    }
  ],
  "metadata": {
    "colab": {
      "provenance": [],
      "toc_visible": true
    },
    "kernelspec": {
      "display_name": "Python 3",
      "name": "python3"
    },
    "language_info": {
      "name": "python"
    },
    "widgets": {
      "application/vnd.jupyter.widget-state+json": {
        "68a01625d67a4a4db6eb83837174d557": {
          "model_module": "@jupyter-widgets/controls",
          "model_name": "HBoxModel",
          "model_module_version": "1.5.0",
          "state": {
            "_dom_classes": [],
            "_model_module": "@jupyter-widgets/controls",
            "_model_module_version": "1.5.0",
            "_model_name": "HBoxModel",
            "_view_count": null,
            "_view_module": "@jupyter-widgets/controls",
            "_view_module_version": "1.5.0",
            "_view_name": "HBoxView",
            "box_style": "",
            "children": [
              "IPY_MODEL_0f8f4122e56142b99243cc77fdc800a0",
              "IPY_MODEL_8525b6d936854c6f9b620015edc9cab7",
              "IPY_MODEL_d014744fcc45411daab1d1b3dbae2806"
            ],
            "layout": "IPY_MODEL_73d24334d8424bafa1b6be846f91c72b"
          }
        },
        "0f8f4122e56142b99243cc77fdc800a0": {
          "model_module": "@jupyter-widgets/controls",
          "model_name": "HTMLModel",
          "model_module_version": "1.5.0",
          "state": {
            "_dom_classes": [],
            "_model_module": "@jupyter-widgets/controls",
            "_model_module_version": "1.5.0",
            "_model_name": "HTMLModel",
            "_view_count": null,
            "_view_module": "@jupyter-widgets/controls",
            "_view_module_version": "1.5.0",
            "_view_name": "HTMLView",
            "description": "",
            "description_tooltip": null,
            "layout": "IPY_MODEL_fc19be907d224fe087cca6aae4007f85",
            "placeholder": "​",
            "style": "IPY_MODEL_ff643fd244d948e0a2d56280e70ad04e",
            "value": "Pandas Apply: 100%"
          }
        },
        "8525b6d936854c6f9b620015edc9cab7": {
          "model_module": "@jupyter-widgets/controls",
          "model_name": "FloatProgressModel",
          "model_module_version": "1.5.0",
          "state": {
            "_dom_classes": [],
            "_model_module": "@jupyter-widgets/controls",
            "_model_module_version": "1.5.0",
            "_model_name": "FloatProgressModel",
            "_view_count": null,
            "_view_module": "@jupyter-widgets/controls",
            "_view_module_version": "1.5.0",
            "_view_name": "ProgressView",
            "bar_style": "success",
            "description": "",
            "description_tooltip": null,
            "layout": "IPY_MODEL_4d0fb5ff6f7a4728afda2dad66d203d2",
            "max": 100000,
            "min": 0,
            "orientation": "horizontal",
            "style": "IPY_MODEL_b3a9d40bc6c04a679fab17b6decf724b",
            "value": 100000
          }
        },
        "d014744fcc45411daab1d1b3dbae2806": {
          "model_module": "@jupyter-widgets/controls",
          "model_name": "HTMLModel",
          "model_module_version": "1.5.0",
          "state": {
            "_dom_classes": [],
            "_model_module": "@jupyter-widgets/controls",
            "_model_module_version": "1.5.0",
            "_model_name": "HTMLModel",
            "_view_count": null,
            "_view_module": "@jupyter-widgets/controls",
            "_view_module_version": "1.5.0",
            "_view_name": "HTMLView",
            "description": "",
            "description_tooltip": null,
            "layout": "IPY_MODEL_5042289a69654d8786b25d11438ed431",
            "placeholder": "​",
            "style": "IPY_MODEL_964de4d2a5624ca9bee831cf5703a442",
            "value": " 100000/100000 [13:21&lt;00:00, 103.64it/s]"
          }
        },
        "73d24334d8424bafa1b6be846f91c72b": {
          "model_module": "@jupyter-widgets/base",
          "model_name": "LayoutModel",
          "model_module_version": "1.2.0",
          "state": {
            "_model_module": "@jupyter-widgets/base",
            "_model_module_version": "1.2.0",
            "_model_name": "LayoutModel",
            "_view_count": null,
            "_view_module": "@jupyter-widgets/base",
            "_view_module_version": "1.2.0",
            "_view_name": "LayoutView",
            "align_content": null,
            "align_items": null,
            "align_self": null,
            "border": null,
            "bottom": null,
            "display": null,
            "flex": null,
            "flex_flow": null,
            "grid_area": null,
            "grid_auto_columns": null,
            "grid_auto_flow": null,
            "grid_auto_rows": null,
            "grid_column": null,
            "grid_gap": null,
            "grid_row": null,
            "grid_template_areas": null,
            "grid_template_columns": null,
            "grid_template_rows": null,
            "height": null,
            "justify_content": null,
            "justify_items": null,
            "left": null,
            "margin": null,
            "max_height": null,
            "max_width": null,
            "min_height": null,
            "min_width": null,
            "object_fit": null,
            "object_position": null,
            "order": null,
            "overflow": null,
            "overflow_x": null,
            "overflow_y": null,
            "padding": null,
            "right": null,
            "top": null,
            "visibility": null,
            "width": null
          }
        },
        "fc19be907d224fe087cca6aae4007f85": {
          "model_module": "@jupyter-widgets/base",
          "model_name": "LayoutModel",
          "model_module_version": "1.2.0",
          "state": {
            "_model_module": "@jupyter-widgets/base",
            "_model_module_version": "1.2.0",
            "_model_name": "LayoutModel",
            "_view_count": null,
            "_view_module": "@jupyter-widgets/base",
            "_view_module_version": "1.2.0",
            "_view_name": "LayoutView",
            "align_content": null,
            "align_items": null,
            "align_self": null,
            "border": null,
            "bottom": null,
            "display": null,
            "flex": null,
            "flex_flow": null,
            "grid_area": null,
            "grid_auto_columns": null,
            "grid_auto_flow": null,
            "grid_auto_rows": null,
            "grid_column": null,
            "grid_gap": null,
            "grid_row": null,
            "grid_template_areas": null,
            "grid_template_columns": null,
            "grid_template_rows": null,
            "height": null,
            "justify_content": null,
            "justify_items": null,
            "left": null,
            "margin": null,
            "max_height": null,
            "max_width": null,
            "min_height": null,
            "min_width": null,
            "object_fit": null,
            "object_position": null,
            "order": null,
            "overflow": null,
            "overflow_x": null,
            "overflow_y": null,
            "padding": null,
            "right": null,
            "top": null,
            "visibility": null,
            "width": null
          }
        },
        "ff643fd244d948e0a2d56280e70ad04e": {
          "model_module": "@jupyter-widgets/controls",
          "model_name": "DescriptionStyleModel",
          "model_module_version": "1.5.0",
          "state": {
            "_model_module": "@jupyter-widgets/controls",
            "_model_module_version": "1.5.0",
            "_model_name": "DescriptionStyleModel",
            "_view_count": null,
            "_view_module": "@jupyter-widgets/base",
            "_view_module_version": "1.2.0",
            "_view_name": "StyleView",
            "description_width": ""
          }
        },
        "4d0fb5ff6f7a4728afda2dad66d203d2": {
          "model_module": "@jupyter-widgets/base",
          "model_name": "LayoutModel",
          "model_module_version": "1.2.0",
          "state": {
            "_model_module": "@jupyter-widgets/base",
            "_model_module_version": "1.2.0",
            "_model_name": "LayoutModel",
            "_view_count": null,
            "_view_module": "@jupyter-widgets/base",
            "_view_module_version": "1.2.0",
            "_view_name": "LayoutView",
            "align_content": null,
            "align_items": null,
            "align_self": null,
            "border": null,
            "bottom": null,
            "display": null,
            "flex": null,
            "flex_flow": null,
            "grid_area": null,
            "grid_auto_columns": null,
            "grid_auto_flow": null,
            "grid_auto_rows": null,
            "grid_column": null,
            "grid_gap": null,
            "grid_row": null,
            "grid_template_areas": null,
            "grid_template_columns": null,
            "grid_template_rows": null,
            "height": null,
            "justify_content": null,
            "justify_items": null,
            "left": null,
            "margin": null,
            "max_height": null,
            "max_width": null,
            "min_height": null,
            "min_width": null,
            "object_fit": null,
            "object_position": null,
            "order": null,
            "overflow": null,
            "overflow_x": null,
            "overflow_y": null,
            "padding": null,
            "right": null,
            "top": null,
            "visibility": null,
            "width": null
          }
        },
        "b3a9d40bc6c04a679fab17b6decf724b": {
          "model_module": "@jupyter-widgets/controls",
          "model_name": "ProgressStyleModel",
          "model_module_version": "1.5.0",
          "state": {
            "_model_module": "@jupyter-widgets/controls",
            "_model_module_version": "1.5.0",
            "_model_name": "ProgressStyleModel",
            "_view_count": null,
            "_view_module": "@jupyter-widgets/base",
            "_view_module_version": "1.2.0",
            "_view_name": "StyleView",
            "bar_color": null,
            "description_width": ""
          }
        },
        "5042289a69654d8786b25d11438ed431": {
          "model_module": "@jupyter-widgets/base",
          "model_name": "LayoutModel",
          "model_module_version": "1.2.0",
          "state": {
            "_model_module": "@jupyter-widgets/base",
            "_model_module_version": "1.2.0",
            "_model_name": "LayoutModel",
            "_view_count": null,
            "_view_module": "@jupyter-widgets/base",
            "_view_module_version": "1.2.0",
            "_view_name": "LayoutView",
            "align_content": null,
            "align_items": null,
            "align_self": null,
            "border": null,
            "bottom": null,
            "display": null,
            "flex": null,
            "flex_flow": null,
            "grid_area": null,
            "grid_auto_columns": null,
            "grid_auto_flow": null,
            "grid_auto_rows": null,
            "grid_column": null,
            "grid_gap": null,
            "grid_row": null,
            "grid_template_areas": null,
            "grid_template_columns": null,
            "grid_template_rows": null,
            "height": null,
            "justify_content": null,
            "justify_items": null,
            "left": null,
            "margin": null,
            "max_height": null,
            "max_width": null,
            "min_height": null,
            "min_width": null,
            "object_fit": null,
            "object_position": null,
            "order": null,
            "overflow": null,
            "overflow_x": null,
            "overflow_y": null,
            "padding": null,
            "right": null,
            "top": null,
            "visibility": null,
            "width": null
          }
        },
        "964de4d2a5624ca9bee831cf5703a442": {
          "model_module": "@jupyter-widgets/controls",
          "model_name": "DescriptionStyleModel",
          "model_module_version": "1.5.0",
          "state": {
            "_model_module": "@jupyter-widgets/controls",
            "_model_module_version": "1.5.0",
            "_model_name": "DescriptionStyleModel",
            "_view_count": null,
            "_view_module": "@jupyter-widgets/base",
            "_view_module_version": "1.2.0",
            "_view_name": "StyleView",
            "description_width": ""
          }
        }
      }
    }
  },
  "nbformat": 4,
  "nbformat_minor": 0
}